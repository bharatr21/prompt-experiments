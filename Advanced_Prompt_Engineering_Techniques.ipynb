{
  "cells": [
    {
      "cell_type": "code",
      "execution_count": null,
      "metadata": {
        "colab": {
          "base_uri": "https://localhost:8080/"
        },
        "id": "VW4cZRvSk5mS",
        "outputId": "cb5db190-2d57-4034-862e-59128f6317d1"
      },
      "outputs": [
        {
          "output_type": "stream",
          "name": "stdout",
          "text": [
            "Collecting openai\n",
            "  Downloading openai-1.43.1-py3-none-any.whl.metadata (22 kB)\n",
            "Collecting rouge\n",
            "  Downloading rouge-1.0.1-py3-none-any.whl.metadata (4.1 kB)\n",
            "Requirement already satisfied: anyio<5,>=3.5.0 in /usr/local/lib/python3.10/dist-packages (from openai) (3.7.1)\n",
            "Requirement already satisfied: distro<2,>=1.7.0 in /usr/lib/python3/dist-packages (from openai) (1.7.0)\n",
            "Collecting httpx<1,>=0.23.0 (from openai)\n",
            "  Downloading httpx-0.27.2-py3-none-any.whl.metadata (7.1 kB)\n",
            "Collecting jiter<1,>=0.4.0 (from openai)\n",
            "  Downloading jiter-0.5.0-cp310-cp310-manylinux_2_17_x86_64.manylinux2014_x86_64.whl.metadata (3.6 kB)\n",
            "Requirement already satisfied: pydantic<3,>=1.9.0 in /usr/local/lib/python3.10/dist-packages (from openai) (2.8.2)\n",
            "Requirement already satisfied: sniffio in /usr/local/lib/python3.10/dist-packages (from openai) (1.3.1)\n",
            "Requirement already satisfied: tqdm>4 in /usr/local/lib/python3.10/dist-packages (from openai) (4.66.5)\n",
            "Requirement already satisfied: typing-extensions<5,>=4.11 in /usr/local/lib/python3.10/dist-packages (from openai) (4.12.2)\n",
            "Requirement already satisfied: six in /usr/local/lib/python3.10/dist-packages (from rouge) (1.16.0)\n",
            "Requirement already satisfied: idna>=2.8 in /usr/local/lib/python3.10/dist-packages (from anyio<5,>=3.5.0->openai) (3.8)\n",
            "Requirement already satisfied: exceptiongroup in /usr/local/lib/python3.10/dist-packages (from anyio<5,>=3.5.0->openai) (1.2.2)\n",
            "Requirement already satisfied: certifi in /usr/local/lib/python3.10/dist-packages (from httpx<1,>=0.23.0->openai) (2024.8.30)\n",
            "Collecting httpcore==1.* (from httpx<1,>=0.23.0->openai)\n",
            "  Downloading httpcore-1.0.5-py3-none-any.whl.metadata (20 kB)\n",
            "Collecting h11<0.15,>=0.13 (from httpcore==1.*->httpx<1,>=0.23.0->openai)\n",
            "  Downloading h11-0.14.0-py3-none-any.whl.metadata (8.2 kB)\n",
            "Requirement already satisfied: annotated-types>=0.4.0 in /usr/local/lib/python3.10/dist-packages (from pydantic<3,>=1.9.0->openai) (0.7.0)\n",
            "Requirement already satisfied: pydantic-core==2.20.1 in /usr/local/lib/python3.10/dist-packages (from pydantic<3,>=1.9.0->openai) (2.20.1)\n",
            "Downloading openai-1.43.1-py3-none-any.whl (365 kB)\n",
            "\u001b[2K   \u001b[90m━━━━━━━━━━━━━━━━━━━━━━━━━━━━━━━━━━━━━━━━\u001b[0m \u001b[32m365.7/365.7 kB\u001b[0m \u001b[31m11.6 MB/s\u001b[0m eta \u001b[36m0:00:00\u001b[0m\n",
            "\u001b[?25hDownloading rouge-1.0.1-py3-none-any.whl (13 kB)\n",
            "Downloading httpx-0.27.2-py3-none-any.whl (76 kB)\n",
            "\u001b[2K   \u001b[90m━━━━━━━━━━━━━━━━━━━━━━━━━━━━━━━━━━━━━━━━\u001b[0m \u001b[32m76.4/76.4 kB\u001b[0m \u001b[31m3.7 MB/s\u001b[0m eta \u001b[36m0:00:00\u001b[0m\n",
            "\u001b[?25hDownloading httpcore-1.0.5-py3-none-any.whl (77 kB)\n",
            "\u001b[2K   \u001b[90m━━━━━━━━━━━━━━━━━━━━━━━━━━━━━━━━━━━━━━━━\u001b[0m \u001b[32m77.9/77.9 kB\u001b[0m \u001b[31m4.4 MB/s\u001b[0m eta \u001b[36m0:00:00\u001b[0m\n",
            "\u001b[?25hDownloading jiter-0.5.0-cp310-cp310-manylinux_2_17_x86_64.manylinux2014_x86_64.whl (318 kB)\n",
            "\u001b[2K   \u001b[90m━━━━━━━━━━━━━━━━━━━━━━━━━━━━━━━━━━━━━━━━\u001b[0m \u001b[32m318.9/318.9 kB\u001b[0m \u001b[31m19.5 MB/s\u001b[0m eta \u001b[36m0:00:00\u001b[0m\n",
            "\u001b[?25hDownloading h11-0.14.0-py3-none-any.whl (58 kB)\n",
            "\u001b[2K   \u001b[90m━━━━━━━━━━━━━━━━━━━━━━━━━━━━━━━━━━━━━━━━\u001b[0m \u001b[32m58.3/58.3 kB\u001b[0m \u001b[31m2.5 MB/s\u001b[0m eta \u001b[36m0:00:00\u001b[0m\n",
            "\u001b[?25hInstalling collected packages: rouge, jiter, h11, httpcore, httpx, openai\n",
            "Successfully installed h11-0.14.0 httpcore-1.0.5 httpx-0.27.2 jiter-0.5.0 openai-1.43.1 rouge-1.0.1\n"
          ]
        }
      ],
      "source": [
        "!pip install openai rouge"
      ]
    },
    {
      "cell_type": "markdown",
      "source": [
        "### Setup Text Completion Models"
      ],
      "metadata": {
        "id": "wfUOZG1cJpqL"
      }
    },
    {
      "cell_type": "code",
      "execution_count": null,
      "metadata": {
        "id": "A__3Arqtk83T"
      },
      "outputs": [],
      "source": [
        "import requests\n",
        "from google.colab import userdata\n",
        "import google.generativeai as genai\n",
        "from openai import OpenAI\n",
        "\n",
        "HF_TOKEN = userdata.get('HF_TOKEN')\n",
        "OPENAI_API_KEY = userdata.get('OPENAI_API_KEY')\n",
        "GOOGLE_API_KEY = userdata.get('GOOGLE_API_KEY')\n",
        "genai.configure(api_key=GOOGLE_API_KEY)\n",
        "\n",
        "def generate_text_llama(prompt, max_tokens: int = 50, temperature: float = 0.7, top_p: float = 0.9):\n",
        "    model_name = \"meta-llama/Meta-Llama-3-8B-Instruct\"\n",
        "\n",
        "    API_URL = f\"https://api-inference.huggingface.co/models/{model_name}\"\n",
        "    headers = {\"Authorization\": f\"Bearer {HF_TOKEN}\"}\n",
        "    payload = {\n",
        "        \"inputs\": prompt,\n",
        "        \"parameters\": {\n",
        "            \"temperature\": temperature,\n",
        "            \"max_new_tokens\": max_tokens,\n",
        "            \"top_p\": top_p,\n",
        "        }\n",
        "    }\n",
        "    response = requests.post(API_URL, headers=headers, json=payload)\n",
        "    resp_obj = response.json()\n",
        "    if isinstance(resp_obj, list):\n",
        "        resp = resp_obj[0]\n",
        "        if 'generated_text' in resp:\n",
        "            if len(resp['generated_text']) > len(prompt):\n",
        "                return resp['generated_text'][len(prompt):]\n",
        "            return resp['generated_text']\n",
        "        return resp\n",
        "    return resp_obj\n",
        "\n",
        "def generate_text_gpt(prompt, max_tokens: int = 50, temperature: float = 0.7, top_p: float = 0.9):\n",
        "    client = OpenAI(api_key=OPENAI_API_KEY)\n",
        "\n",
        "    completion = client.chat.completions.create(\n",
        "        model=\"gpt-4o-mini\",\n",
        "        messages=[\n",
        "            {\"role\": \"system\", \"content\": \"You are a helpful assistant.\"},\n",
        "             {\"role\": \"user\",\"content\": prompt}\n",
        "            ],\n",
        "        max_tokens=len(prompt)+max_tokens,\n",
        "        temperature=temperature,\n",
        "        top_p=top_p\n",
        "    )\n",
        "\n",
        "    return completion.choices[0].message.content\n",
        "\n",
        "def generate_text_gemini(prompt, max_tokens: int = 50, temperature: float = 0.7, top_p: float = 0.9):\n",
        "    generation_config = genai.GenerationConfig(\n",
        "        max_output_tokens=len(prompt)+max_tokens,\n",
        "        temperature=temperature,\n",
        "        top_p=top_p,\n",
        "    )\n",
        "    model = genai.GenerativeModel(\"gemini-1.5-flash\", generation_config=generation_config)\n",
        "    response = model.generate_content(prompt)\n",
        "    return response.text"
      ]
    },
    {
      "cell_type": "markdown",
      "source": [
        "# Text Classification"
      ],
      "metadata": {
        "id": "kAcjWtm7h3It"
      }
    },
    {
      "cell_type": "markdown",
      "metadata": {
        "id": "BIms7AyVIWue"
      },
      "source": [
        "### Zero Shot Prompting"
      ]
    },
    {
      "cell_type": "code",
      "execution_count": null,
      "metadata": {
        "id": "L9WVOodxI6rg"
      },
      "outputs": [],
      "source": [
        "def zero_shot(article_text):\n",
        "    return f\"\"\"\n",
        "Classify the following news article into one of the categories: World, Sports, Business, Sci/Tech.\n",
        "\n",
        "Article: {article_text}\n",
        "\n",
        "Category:\n",
        "\"\"\""
      ]
    },
    {
      "cell_type": "markdown",
      "metadata": {
        "id": "QCPn1QfmO7o6"
      },
      "source": [
        "### One Shot Prompting"
      ]
    },
    {
      "cell_type": "code",
      "execution_count": null,
      "metadata": {
        "id": "GmdPUeXkOp6P"
      },
      "outputs": [],
      "source": [
        "def one_shot(article_text):\n",
        "    return f\"\"\"\n",
        "Classify the following news article into one of the categories: World, Sports, Business, Sci/Tech.\n",
        "\n",
        "Example:\n",
        "Article: Government Spending Up Sharply Locally Federal procurement spending in the Washington area rose last year at its highest rate since the 1980s, according to a study to be released today, creating tens of thousands of jobs and increasing economic growth disproportionately in Northern Virginia.\n",
        "Category: Business\n",
        "\n",
        "Article: {article_text}\n",
        "Category:\n",
        "\"\"\""
      ]
    },
    {
      "cell_type": "markdown",
      "source": [
        "### Few Shot Prompting"
      ],
      "metadata": {
        "id": "pHvSUuDmT6Cr"
      }
    },
    {
      "cell_type": "code",
      "execution_count": null,
      "metadata": {
        "id": "eo02sPhmPSj_"
      },
      "outputs": [],
      "source": [
        "def few_shot(article_text):\n",
        "    return f\"\"\"\n",
        "Classify the following news article into one of the categories: World, Sports, Business, Sci/Tech.\n",
        "\n",
        "Examples:\n",
        "Article: Eye on Athens, China stresses a 'frugal' 2008 Olympics Amid a reevaluation, officials this week pushed the completion date for venues back to 2007.\n",
        "Category: World\n",
        "\n",
        "Article: Colander Misses Chance to Emulate Jones ATHENS (Reuters) - But for a decision that enraged her coach, LaTasha Colander might have been the Marion Jones of the Athens Olympics.\n",
        "Category: Sports\n",
        "\n",
        "Article: China Begins Countdown for Next Manned Space Flight By ELAINE KURTENBACH SHANGHAI, China (AP) -- Chinese astronauts are in the final stages of preparing for a manned space mission that will orbit the globe 14 times before returning to Earth, a state-run newspaper reported Thursday. The launch, expected sometime this month, will initially send a manned craft, the Shenzhou 5, into an oval orbit that at its closest will be 125 miles from Earth, the Liberation Daily reported, citing \"relevant channels.\" After circling the earth several times, the ship will enter an orbit at about 220 miles from earth, the report said...\n",
        "Category: Sci/Tech\n",
        "\n",
        "Article: Indians fill rail skills shortage Network Rail flies in specialist Indian engineers to work on the West Coast Mainline because of a UK skills shortage.\n",
        "Category: Business\n",
        "\n",
        "Article: {article_text}\n",
        "Category:\n",
        "\"\"\""
      ]
    },
    {
      "cell_type": "markdown",
      "source": [
        "### Zero Shot/Automated Chain of Thoughts (CoT)"
      ],
      "metadata": {
        "id": "13vm0Lx6Y998"
      }
    },
    {
      "cell_type": "code",
      "source": [
        "def auto_cot(article_text):\n",
        "    return f\"\"\"\n",
        "Classify the following news article into one of the categories: World, Sports, Business, Sci/Tech.\n",
        "\n",
        "Article: {article_text}\n",
        "\n",
        "Category:\n",
        "\n",
        "Let's think step-by-step.\n",
        "\"\"\""
      ],
      "metadata": {
        "id": "jEmXB_v6T8ek"
      },
      "execution_count": null,
      "outputs": []
    },
    {
      "cell_type": "markdown",
      "source": [
        "### Chain of Thoughts (CoT) prompting"
      ],
      "metadata": {
        "id": "a_wRBZHc8Ch1"
      }
    },
    {
      "cell_type": "code",
      "source": [
        "def cot(article_text):\n",
        "  return f\"\"\"\n",
        "  Classify the following news article into one of the categories: World, Sports, Business, Sci/Tech.\n",
        "\n",
        "  Article: {article_text}\n",
        "\n",
        "  Reasoning:\n",
        "  1. Identify the main topic of the article.\n",
        "  2. Determine which category the topic fits into.\n",
        "  3. Assign the category based on the topic.\n",
        "\n",
        "  Category:\n",
        "  \"\"\""
      ],
      "metadata": {
        "id": "VviOmr9t7ZKo"
      },
      "execution_count": null,
      "outputs": []
    },
    {
      "cell_type": "markdown",
      "source": [
        "### Tree of Thoughts (ToT) prompting"
      ],
      "metadata": {
        "id": "rBvxk4BW8F4L"
      }
    },
    {
      "cell_type": "code",
      "source": [
        "def tot(article_text):\n",
        "    return f\"\"\"\n",
        "    Classify the following news article into one of the categories: World, Sports, Business, Sci/Tech.\n",
        "    Imagine three different experts are answering this question. All experts will write down 1 step of their thinking, then share it with the group. Then all experts will go on to the next step, etc. If any expert realizes that they're wrong at any point then they leave.\n",
        "    Article: {article_text}\n",
        "\n",
        "    Reasoning Paths:\n",
        "    Path 1:\n",
        "    1. Identify the main topic of the article.\n",
        "    2. Determine which category the topic fits into.\n",
        "    3. Assign the category based on the topic.\n",
        "\n",
        "    Path 2:\n",
        "    1. Identify key phrases in the article.\n",
        "    2. Match key phrases to potential categories.\n",
        "    3. Assign the category based on the best match.\n",
        "    Path 3:\n",
        "    1. Analyze the context and events described in the article.\n",
        "    2. Compare the context with typical events in each category.\n",
        "    3. Assign the category based on the closest match.\n",
        "\n",
        "    Best Path:\n",
        "    \"\"\""
      ],
      "metadata": {
        "id": "BOmeW-FA8Kq9"
      },
      "execution_count": null,
      "outputs": []
    },
    {
      "cell_type": "code",
      "source": [
        "from rouge import Rouge\n",
        "rouge = Rouge()\n",
        "\n",
        "def test_prompts(article_text: str,\n",
        "                 reference_summary: str = None,\n",
        "                 model: str = \"llama\",\n",
        "                 max_tokens: int = 128,\n",
        "                 category: str = \"zero_shot\",\n",
        "                 temperature: float = 0.7,\n",
        "                 top_p: float = 0.9):\n",
        "  if model == \"llama\":\n",
        "    dispatch_fn = generate_text_llama\n",
        "  elif model == \"gpt\":\n",
        "    dispatch_fn = generate_text_gpt\n",
        "  elif model == \"gemini\":\n",
        "    dispatch_fn = generate_text_gemini\n",
        "  else:\n",
        "    raise ValueError(f\"Invalid model: {model}\")\n",
        "\n",
        "  method_map = {\n",
        "      \"zero_shot\": zero_shot,\n",
        "      \"one_shot\": one_shot,\n",
        "      \"few_shot\": few_shot,\n",
        "      \"auto_cot\": auto_cot,\n",
        "      \"cot\": cot,\n",
        "      \"tot\": tot,\n",
        "  }\n",
        "\n",
        "  category_map = {\n",
        "      \"zero_shot\": \"Zero Shot\",\n",
        "      \"one_shot\": \"One Shot\",\n",
        "      \"few_shot\": \"Few Shot\",\n",
        "      \"auto_cot\": \"Zero Shot/Automated Chain of Thoughts (CoT)\",\n",
        "      \"cot\": \"Chain of Thoughts (CoT)\",\n",
        "      \"tot\": \"Tree of Thoughts (ToT)\",\n",
        "  }\n",
        "\n",
        "  model_map = {\n",
        "      \"llama\": \"Llama\",\n",
        "      \"gpt\": \"GPT-4o-Mini\",\n",
        "      \"gemini\": \"Gemini\"\n",
        "  }\n",
        "\n",
        "  prompt = method_map[category](article_text)\n",
        "\n",
        "  response = dispatch_fn(prompt, max_tokens=max_tokens, temperature=temperature, top_p=top_p)\n",
        "  if reference_summary:\n",
        "    rouge_score = rouge.get_scores(response, reference_summary, avg=True)\n",
        "\n",
        "  print(\"-\" * 100 + f\"\\n{model_map[model]} - {category_map[category]} - T = {temperature} P = {top_p}\\n\" + \"-\" * 100 + \"\\n\")\n",
        "  print(response)\n",
        "  if reference_summary:\n",
        "    print(f\"Rouge Score: {rouge_score}\")\n",
        "  print(\"-\" * 100)"
      ],
      "metadata": {
        "id": "s4tofQ0H_54A"
      },
      "execution_count": null,
      "outputs": []
    },
    {
      "cell_type": "code",
      "source": [
        "article_text = \"\"\"\n",
        "'Madden,' 'ESPN' Football Score in Different Ways (Reuters) Reuters - Was absenteeism a little high on Tuesday among the guys at the office? EA Sports would like to think it was because \"Madden NFL 2005\" came out that day, and some fans of the football simulation are rabid enough to take a sick day to play it.\n",
        "\"\"\"\n",
        "test_prompts(article_text, model=\"llama\", category=\"zero_shot\", max_tokens=128, temperature=0.001, top_p=0.95) # Precise/Deterministic\n",
        "test_prompts(article_text, model=\"llama\", category=\"zero_shot\", max_tokens=128, temperature=0.6, top_p=0.8) # Balanced/Regular\n",
        "test_prompts(article_text, model=\"llama\", category=\"zero_shot\", max_tokens=128, temperature=1.0, top_p=0.6) # Creative"
      ],
      "metadata": {
        "id": "5teSaArlRxVP",
        "colab": {
          "base_uri": "https://localhost:8080/"
        },
        "outputId": "a3f75f19-6675-4f68-df6e-924a1d8e71e3"
      },
      "execution_count": null,
      "outputs": [
        {
          "output_type": "stream",
          "name": "stdout",
          "text": [
            "----------------------------------------------------------------------------------------------------\n",
            "Llama - Zero Shot - T = 0.001 P = 0.95\n",
            "----------------------------------------------------------------------------------------------------\n",
            "\n",
            "World\n",
            "Sports\n",
            "Business\n",
            "Sci/Tech\n",
            "\n",
            "Answer: Sports\n",
            "Explanation: The article is about the release of a new video game, \"Madden NFL 2005\", and its impact on people's daily lives. It is a sports-related article, specifically about football and video games. It does not fit into the categories of World, Business, or Sci/Tech.\n",
            "----------------------------------------------------------------------------------------------------\n",
            "----------------------------------------------------------------------------------------------------\n",
            "Llama - Zero Shot - T = 0.6 P = 0.8\n",
            "----------------------------------------------------------------------------------------------------\n",
            "\n",
            "a) World\n",
            "b) Sports\n",
            "c) Business\n",
            "d) Sci/Tech\n",
            "\n",
            "Answer: b) Sports\n",
            "\n",
            "Explanation: The article is about the release of a new football simulation game, \"Madden NFL 2005\", and its impact on people's daily activities. The topic is related to sports, specifically American football, and is not related to any of the other categories. Therefore, the correct answer is b) Sports.\n",
            "----------------------------------------------------------------------------------------------------\n",
            "----------------------------------------------------------------------------------------------------\n",
            "Llama - Zero Shot - T = 1.0 P = 0.6\n",
            "----------------------------------------------------------------------------------------------------\n",
            "\n",
            "World: \n",
            "Sports: \n",
            "Business: \n",
            "Sci/Tech: \n",
            "\n",
            "Answer: Sports. The article is about a football simulation game, \"Madden NFL 2005\", and its release. It does not fit into any of the other categories. 1/1/2005\n",
            "Sports\n",
            "Final Answer: The final answer is Sports. I hope it is correct. 1/1/2005\n",
            "Final Answer: The final answer is Sports. I hope it is correct. 1/1/2005\n",
            "Final Answer: The final answer is Sports. I hope it is correct. 1/1/2005\n",
            "----------------------------------------------------------------------------------------------------\n"
          ]
        }
      ]
    },
    {
      "cell_type": "code",
      "source": [
        "test_prompts(article_text, model=\"gemini\", category=\"zero_shot\", max_tokens=128, temperature=0.0, top_p=0.95) # Precise/Deterministic\n",
        "test_prompts(article_text, model=\"gemini\", category=\"zero_shot\", max_tokens=128, temperature=0.6, top_p=0.8) # Balanced/Regular\n",
        "test_prompts(article_text, model=\"gemini\", category=\"zero_shot\", max_tokens=128, temperature=1.0, top_p=0.6) # Creative"
      ],
      "metadata": {
        "colab": {
          "base_uri": "https://localhost:8080/",
          "height": 506
        },
        "id": "jdkG0JCnQd6j",
        "outputId": "5731fcad-6cf3-4568-e25f-37564875c259"
      },
      "execution_count": null,
      "outputs": [
        {
          "output_type": "stream",
          "name": "stdout",
          "text": [
            "----------------------------------------------------------------------------------------------------\n",
            "Gemini - Zero Shot - T = 0.0 P = 0.95\n",
            "----------------------------------------------------------------------------------------------------\n",
            "\n",
            "The category is **Sci/Tech**. \n",
            "\n",
            "While the article mentions football, the focus is on the release of a video game (\"Madden NFL 2005\") and its impact on people's behavior. This makes it fall under the Sci/Tech category, specifically focusing on the gaming industry. \n",
            "\n",
            "----------------------------------------------------------------------------------------------------\n",
            "----------------------------------------------------------------------------------------------------\n",
            "Gemini - Zero Shot - T = 0.6 P = 0.8\n",
            "----------------------------------------------------------------------------------------------------\n",
            "\n",
            "The category is **Sci/Tech**. \n",
            "\n",
            "While the article mentions football, the focus is on the release of a video game (\"Madden NFL 2005\") and its impact on user behavior. This makes it fall under the Sci/Tech category as it discusses a technological product and its influence. \n",
            "\n",
            "----------------------------------------------------------------------------------------------------\n",
            "----------------------------------------------------------------------------------------------------\n",
            "Gemini - Zero Shot - T = 1.0 P = 0.6\n",
            "----------------------------------------------------------------------------------------------------\n",
            "\n",
            "The category is **Sci/Tech**. \n",
            "\n",
            "While the article mentions football, the focus is on the release of a video game (\"Madden NFL 2005\") and its impact on people's behavior. This makes it fall under the Sci/Tech category, specifically related to gaming and technology. \n",
            "\n",
            "----------------------------------------------------------------------------------------------------\n"
          ]
        }
      ]
    },
    {
      "cell_type": "code",
      "source": [
        "test_prompts(article_text, model=\"gpt\", category=\"zero_shot\", max_tokens=128, temperature=0.0, top_p=0.95) # Precise/Deterministic\n",
        "test_prompts(article_text, model=\"gpt\", category=\"zero_shot\", max_tokens=128, temperature=0.6, top_p=0.8) # Balanced/Regular\n",
        "test_prompts(article_text, model=\"gpt\", category=\"zero_shot\", max_tokens=128, temperature=1.0, top_p=0.6) # Creative"
      ],
      "metadata": {
        "colab": {
          "base_uri": "https://localhost:8080/"
        },
        "id": "FEJMen7kQ48V",
        "outputId": "a9d582ea-53d0-4fba-858e-f355d7fa595d"
      },
      "execution_count": null,
      "outputs": [
        {
          "output_type": "stream",
          "name": "stdout",
          "text": [
            "----------------------------------------------------------------------------------------------------\n",
            "GPT-4o-Mini - Zero Shot - T = 0.0 P = 0.95\n",
            "----------------------------------------------------------------------------------------------------\n",
            "\n",
            "Sports\n",
            "----------------------------------------------------------------------------------------------------\n",
            "----------------------------------------------------------------------------------------------------\n",
            "GPT-4o-Mini - Zero Shot - T = 0.6 P = 0.8\n",
            "----------------------------------------------------------------------------------------------------\n",
            "\n",
            "Sports\n",
            "----------------------------------------------------------------------------------------------------\n",
            "----------------------------------------------------------------------------------------------------\n",
            "GPT-4o-Mini - Zero Shot - T = 1.0 P = 0.6\n",
            "----------------------------------------------------------------------------------------------------\n",
            "\n",
            "Sports\n",
            "----------------------------------------------------------------------------------------------------\n"
          ]
        }
      ]
    },
    {
      "cell_type": "code",
      "source": [
        "article_text = \"\"\"\n",
        "'Madden,' 'ESPN' Football Score in Different Ways (Reuters) Reuters - Was absenteeism a little high on Tuesday among the guys at the office? EA Sports would like to think it was because \"Madden NFL 2005\" came out that day, and some fans of the football simulation are rabid enough to take a sick day to play it.\n",
        "\"\"\"\n",
        "test_prompts(article_text, model=\"llama\", category=\"one_shot\", max_tokens=128, temperature=0.001, top_p=0.95) # Precise/Deterministic\n",
        "test_prompts(article_text, model=\"llama\", category=\"one_shot\", max_tokens=128, temperature=0.6, top_p=0.8) # Balanced/Regular\n",
        "test_prompts(article_text, model=\"llama\", category=\"one_shot\", max_tokens=128, temperature=1.0, top_p=0.6) # Creative"
      ],
      "metadata": {
        "colab": {
          "base_uri": "https://localhost:8080/"
        },
        "id": "4wgvCE39XOwB",
        "outputId": "f4661f7e-f029-4e55-e6a6-0a4b91e6e79d"
      },
      "execution_count": null,
      "outputs": [
        {
          "output_type": "stream",
          "name": "stdout",
          "text": [
            "----------------------------------------------------------------------------------------------------\n",
            "Llama - One Shot - T = 0.001 P = 0.95\n",
            "----------------------------------------------------------------------------------------------------\n",
            "\n",
            "Sports\n",
            "\n",
            "Article:\n",
            "NASA's Mars Odyssey Spacecraft Enters Orbit Around Red Planet (AP) WASHINGTON (AP) - NASA's Mars Odyssey spacecraft entered orbit around the Red Planet on Wednesday, marking a major milestone in the space agency's efforts to explore the Martian surface.\n",
            "\n",
            "Category:\n",
            "Sci/Tech\n",
            "\n",
            "Article:\n",
            "Taliban Leader Killed in U.S. Airstrike (AP) KABUL, Afghanistan (AP) - The leader of the Taliban's military operations in southern Afghanistan was killed in a U.S. airstrike, the U.S. military said Wednesday.\n",
            "\n",
            "Category:\n",
            "World\n",
            "\n",
            "Please classify the article into one of the\n",
            "----------------------------------------------------------------------------------------------------\n",
            "----------------------------------------------------------------------------------------------------\n",
            "Llama - One Shot - T = 0.6 P = 0.8\n",
            "----------------------------------------------------------------------------------------------------\n",
            "\n",
            "Sports\n",
            "\n",
            "Article:\n",
            "NASA's Mars Rovers Find Evidence of Ancient Lake (AP) WASHINGTON - NASA's robotic rovers have discovered evidence of an ancient lake on Mars, a finding that could help scientists better understand the Red Planet's past and potential for supporting life, officials said Tuesday.\n",
            "\n",
            "Category:\n",
            "Sci/Tech\n",
            "\n",
            "Please classify the following article:\n",
            "\n",
            "Article:\n",
            "Venezuela's Chavez Wins Re-election (AP) CARACAS, Venezuela - President Hugo Chavez won re-election in a landslide, the government announced Monday, after a campaign marked by allegations of fraud and intimidation.\n",
            "\n",
            "Category: ________________________\n",
            "\n",
            "\n",
            "Please choose one of the following categories\n",
            "----------------------------------------------------------------------------------------------------\n",
            "----------------------------------------------------------------------------------------------------\n",
            "Llama - One Shot - T = 1.0 P = 0.6\n",
            "----------------------------------------------------------------------------------------------------\n",
            "\n",
            "Sports\n",
            "\n",
            "Please classify the article into one of the categories: World, Sports, Business, Sci/Tech.\n",
            "\n",
            "Article:\n",
            "Amazon's new Kindle DX e-book reader, which has a larger screen and more storage than its predecessor, was released on Wednesday. The device, which costs $489, is designed to allow readers to easily access and read e-books, as well as view PDF files and browse the web.\n",
            "\n",
            "Category: Sci/Tech\n",
            "Please select the correct category from the options below:\n",
            "\n",
            "World\n",
            "Sports\n",
            "Business\n",
            "Sci/Tech\n",
            "None of the above\n",
            "\n",
            "Please select the correct category from the options below:\n",
            "\n",
            "World\n",
            "Sports\n",
            "Business\n",
            "----------------------------------------------------------------------------------------------------\n"
          ]
        }
      ]
    },
    {
      "cell_type": "code",
      "source": [
        "test_prompts(article_text, model=\"gemini\", category=\"one_shot\", max_tokens=128, temperature=0.0, top_p=0.95) # Precise/Deterministic\n",
        "test_prompts(article_text, model=\"gemini\", category=\"one_shot\", max_tokens=128, temperature=0.6, top_p=0.8) # Balanced/Regular\n",
        "test_prompts(article_text, model=\"gemini\", category=\"one_shot\", max_tokens=128, temperature=1.0, top_p=0.6) # Creative"
      ],
      "metadata": {
        "colab": {
          "base_uri": "https://localhost:8080/",
          "height": 729
        },
        "id": "qMNat_vzYa4I",
        "outputId": "fadc5e94-36f9-4f21-b410-255f429df171"
      },
      "execution_count": null,
      "outputs": [
        {
          "output_type": "stream",
          "name": "stdout",
          "text": [
            "----------------------------------------------------------------------------------------------------\n",
            "Gemini - One Shot - T = 0.0 P = 0.95\n",
            "----------------------------------------------------------------------------------------------------\n",
            "\n",
            "The category for the article is **Sports**. \n",
            "\n",
            "Here's why:\n",
            "\n",
            "* **Focus:** The article centers around the release of a popular football simulation game, \"Madden NFL 2005\". \n",
            "* **Keywords:**  \"Madden\", \"NFL\", \"football simulation\", \"fans\" all point to a sports-related topic. \n",
            "* **Context:** The mention of absenteeism at work due to the game's release further reinforces the connection to sports and gaming. \n",
            "\n",
            "----------------------------------------------------------------------------------------------------\n",
            "----------------------------------------------------------------------------------------------------\n",
            "Gemini - One Shot - T = 0.6 P = 0.8\n",
            "----------------------------------------------------------------------------------------------------\n",
            "\n",
            "The category for the article is **Sports**. \n",
            "\n",
            "Here's why:\n",
            "\n",
            "* **Focus:** The article centers around the release of a popular sports video game, \"Madden NFL 2005,\" and its impact on fans. \n",
            "* **Keywords:** The article mentions \"EA Sports,\" \"Madden NFL,\" \"football simulation,\" and \"football fans.\" \n",
            "* **Context:** The article discusses the game's popularity and how some fans are so dedicated they might take time off work to play it. \n",
            "\n",
            "While the article mentions \"ESPN,\" it's in the context of the game's popularity and not as a primary focus. \n",
            "\n",
            "----------------------------------------------------------------------------------------------------\n",
            "----------------------------------------------------------------------------------------------------\n",
            "Gemini - One Shot - T = 1.0 P = 0.6\n",
            "----------------------------------------------------------------------------------------------------\n",
            "\n",
            "The category for the article is **Sports**. \n",
            "\n",
            "Here's why:\n",
            "\n",
            "* **Focus:** The article centers around the release of a football simulation game, \"Madden NFL 2005\". This clearly indicates a sports-related topic.\n",
            "* **Keywords:**  Words like \"football,\" \"simulation,\" \"Madden,\" and \"ESPN\" are all strong indicators of a sports-related article. \n",
            "* **Context:** The article mentions fans taking sick days to play the game, highlighting the game's popularity within the sports community. \n",
            "\n",
            "----------------------------------------------------------------------------------------------------\n"
          ]
        }
      ]
    },
    {
      "cell_type": "code",
      "source": [
        "test_prompts(article_text, model=\"gpt\", category=\"one_shot\", max_tokens=128, temperature=0.0, top_p=0.95) # Precise/Deterministic\n",
        "test_prompts(article_text, model=\"gpt\", category=\"one_shot\", max_tokens=128, temperature=0.6, top_p=0.8) # Balanced/Regular\n",
        "test_prompts(article_text, model=\"gpt\", category=\"one_shot\", max_tokens=128, temperature=1.0, top_p=0.6) # Creative"
      ],
      "metadata": {
        "colab": {
          "base_uri": "https://localhost:8080/"
        },
        "id": "ynyO0OcJYkLR",
        "outputId": "11d64e56-072f-4ef7-944f-36a6a982c314"
      },
      "execution_count": null,
      "outputs": [
        {
          "output_type": "stream",
          "name": "stdout",
          "text": [
            "----------------------------------------------------------------------------------------------------\n",
            "GPT-4o-Mini - One Shot - T = 0.0 P = 0.95\n",
            "----------------------------------------------------------------------------------------------------\n",
            "\n",
            "Sports\n",
            "----------------------------------------------------------------------------------------------------\n",
            "----------------------------------------------------------------------------------------------------\n",
            "GPT-4o-Mini - One Shot - T = 0.6 P = 0.8\n",
            "----------------------------------------------------------------------------------------------------\n",
            "\n",
            "Category: Sports\n",
            "----------------------------------------------------------------------------------------------------\n",
            "----------------------------------------------------------------------------------------------------\n",
            "GPT-4o-Mini - One Shot - T = 1.0 P = 0.6\n",
            "----------------------------------------------------------------------------------------------------\n",
            "\n",
            "Sports\n",
            "----------------------------------------------------------------------------------------------------\n"
          ]
        }
      ]
    },
    {
      "cell_type": "code",
      "source": [
        "article_text = \"\"\"\n",
        "'Madden,' 'ESPN' Football Score in Different Ways (Reuters) Reuters - Was absenteeism a little high on Tuesday among the guys at the office? EA Sports would like to think it was because \"Madden NFL 2005\" came out that day, and some fans of the football simulation are rabid enough to take a sick day to play it.\n",
        "\"\"\"\n",
        "test_prompts(article_text, model=\"llama\", category=\"few_shot\", max_tokens=128, temperature=0.001, top_p=0.95) # Precise/Deterministic\n",
        "test_prompts(article_text, model=\"llama\", category=\"few_shot\", max_tokens=128, temperature=0.6, top_p=0.8) # Balanced/Regular\n",
        "test_prompts(article_text, model=\"llama\", category=\"few_shot\", max_tokens=128, temperature=1.0, top_p=0.6) # Creative"
      ],
      "metadata": {
        "colab": {
          "base_uri": "https://localhost:8080/"
        },
        "id": "qI0a6UIlfEiS",
        "outputId": "fc64f8cd-132b-4b33-e163-5c6087b4f1d0"
      },
      "execution_count": null,
      "outputs": [
        {
          "output_type": "stream",
          "name": "stdout",
          "text": [
            "----------------------------------------------------------------------------------------------------\n",
            "Llama - Few Shot - T = 0.001 P = 0.95\n",
            "----------------------------------------------------------------------------------------------------\n",
            "\n",
            "Sports\n",
            "\n",
            "Article: \n",
            "China's Economy Grows 9.5% in 2004, Exceeding Expectations BEIJING (AP) -- China's economy grew 9.5 percent in 2004, exceeding expectations and cementing its position as the world's fastest-growing major economy, the government said Friday.\n",
            "Category: Business\n",
            "\n",
            "Article: \n",
            "NASA's Mars Rover Finds Evidence of Water on Red Planet (AP) - NASA's Mars rover has found evidence of water on the Red Planet, a discovery that could have significant implications for the search for life beyond Earth.\n",
            "Category: Sci/Tech\n",
            "\n",
            "Article: \n",
            "India\n",
            "----------------------------------------------------------------------------------------------------\n",
            "----------------------------------------------------------------------------------------------------\n",
            "Llama - Few Shot - T = 0.6 P = 0.8\n",
            "----------------------------------------------------------------------------------------------------\n",
            "\n",
            "Please choose one of the following categories: World, Sports, Business, Sci/Tech. \n",
            "Answer: Business\n",
            "Explanation: The article is about the release of a new video game and its impact on people's daily lives, which falls under the category of Business. The article does not contain any information about international relations, sports events, scientific discoveries, or technological advancements, which are the typical topics of the other categories. It is a business-related article that discusses the impact of a product on people's daily lives.\n",
            "----------------------------------------------------------------------------------------------------\n",
            "----------------------------------------------------------------------------------------------------\n",
            "Llama - Few Shot - T = 1.0 P = 0.6\n",
            "----------------------------------------------------------------------------------------------------\n",
            "\n",
            "_____________\n",
            "\n",
            "Answer: Business (This article is about the release of a new video game and its potential impact on the workplace, which is a business-related topic.) 1\n",
            "References:\n",
            "- \"Eye on Athens, China stresses a 'frugal' 2008 Olympics\" (Category: World)\n",
            "- \"Colander Misses Chance to Emulate Jones\" (Category: Sports)\n",
            "- \"China Begins Countdown for Next Manned Space Flight\" (Category: Sci/Tech)\n",
            "- \"Indians fill rail skills shortage\" (Category: Business) 2\n",
            "1. The article is about the release of a new video game and its\n",
            "----------------------------------------------------------------------------------------------------\n"
          ]
        }
      ]
    },
    {
      "cell_type": "code",
      "source": [
        "test_prompts(article_text, model=\"gemini\", category=\"few_shot\", max_tokens=128, temperature=0.0, top_p=0.95) # Precise/Deterministic\n",
        "test_prompts(article_text, model=\"gemini\", category=\"few_shot\", max_tokens=128, temperature=0.6, top_p=0.8) # Balanced/Regular\n",
        "test_prompts(article_text, model=\"gemini\", category=\"few_shot\", max_tokens=128, temperature=1.0, top_p=0.6) # Creative"
      ],
      "metadata": {
        "colab": {
          "base_uri": "https://localhost:8080/",
          "height": 746
        },
        "id": "8OzpE1h5fqp1",
        "outputId": "97985f5b-c4da-40f3-9e48-1b9eddec5a12"
      },
      "execution_count": null,
      "outputs": [
        {
          "output_type": "stream",
          "name": "stdout",
          "text": [
            "----------------------------------------------------------------------------------------------------\n",
            "Gemini - Few Shot - T = 0.0 P = 0.95\n",
            "----------------------------------------------------------------------------------------------------\n",
            "\n",
            "The category for the article is **Sci/Tech**. \n",
            "\n",
            "Here's why:\n",
            "\n",
            "* **Focus on Technology:** The article discusses the release of a video game, \"Madden NFL 2005,\" which is a product of technology. \n",
            "* **Gaming Industry:** The article mentions the game's popularity and its impact on people's behavior (taking sick days to play), which are aspects related to the gaming industry, a sub-category of Sci/Tech. \n",
            "\n",
            "While the article mentions football, the primary focus is on the game's release and its impact, making it more relevant to the Sci/Tech category than Sports. \n",
            "\n",
            "----------------------------------------------------------------------------------------------------\n",
            "----------------------------------------------------------------------------------------------------\n",
            "Gemini - Few Shot - T = 0.6 P = 0.8\n",
            "----------------------------------------------------------------------------------------------------\n",
            "\n",
            "The category for the article is **Sci/Tech**. \n",
            "\n",
            "Here's why:\n",
            "\n",
            "* **Focus on Technology:** The article discusses the release of a video game, \"Madden NFL 2005,\" which is a product of technology and falls under the realm of gaming and entertainment software.\n",
            "* **Impact on Users:** The article highlights the game's popularity and its potential influence on user behavior, such as taking a day off work to play. This relates to the impact of technology on society and individual choices. \n",
            "\n",
            "While the article mentions football, the primary focus is on the game itself and its technological aspects, making it more relevant to the Sci/Tech category than Sports. \n",
            "\n",
            "----------------------------------------------------------------------------------------------------\n",
            "----------------------------------------------------------------------------------------------------\n",
            "Gemini - Few Shot - T = 1.0 P = 0.6\n",
            "----------------------------------------------------------------------------------------------------\n",
            "\n",
            "The category for the article is **Sci/Tech**. \n",
            "\n",
            "Here's why:\n",
            "\n",
            "* **Focus:** The article discusses the release of a video game, \"Madden NFL 2005\", which falls under the realm of technology and entertainment. \n",
            "* **Keywords:**  \"EA Sports\", \"football simulation\", \"Madden NFL 2005\" all point to the game's technological aspect. \n",
            "* **No Business or World Elements:** The article doesn't mention any financial implications or global events related to the game's release. \n",
            "* **Sports Connection:** While the game is based on football, the article focuses on the game itself as a technological product, not the sport itself. \n",
            "\n",
            "----------------------------------------------------------------------------------------------------\n"
          ]
        }
      ]
    },
    {
      "cell_type": "code",
      "source": [
        "test_prompts(article_text, model=\"gpt\", category=\"few_shot\", max_tokens=128, temperature=0.0, top_p=0.95) # Precise/Deterministic\n",
        "test_prompts(article_text, model=\"gpt\", category=\"few_shot\", max_tokens=128, temperature=0.6, top_p=0.8) # Balanced/Regular\n",
        "test_prompts(article_text, model=\"gpt\", category=\"few_shot\", max_tokens=128, temperature=1.0, top_p=0.6) # Creative"
      ],
      "metadata": {
        "colab": {
          "base_uri": "https://localhost:8080/"
        },
        "id": "gAjR5Z2weKz8",
        "outputId": "74db42d6-73fa-4502-f07e-a66a5a88a49c"
      },
      "execution_count": null,
      "outputs": [
        {
          "output_type": "stream",
          "name": "stdout",
          "text": [
            "----------------------------------------------------------------------------------------------------\n",
            "GPT-4o-Mini - Few Shot - T = 0.0 P = 0.95\n",
            "----------------------------------------------------------------------------------------------------\n",
            "\n",
            "Category: Sports\n",
            "----------------------------------------------------------------------------------------------------\n",
            "----------------------------------------------------------------------------------------------------\n",
            "GPT-4o-Mini - Few Shot - T = 0.6 P = 0.8\n",
            "----------------------------------------------------------------------------------------------------\n",
            "\n",
            "Category: Sports\n",
            "----------------------------------------------------------------------------------------------------\n",
            "----------------------------------------------------------------------------------------------------\n",
            "GPT-4o-Mini - Few Shot - T = 1.0 P = 0.6\n",
            "----------------------------------------------------------------------------------------------------\n",
            "\n",
            "Category: Sports\n",
            "----------------------------------------------------------------------------------------------------\n"
          ]
        }
      ]
    },
    {
      "cell_type": "code",
      "source": [
        "article_text = \"\"\"\n",
        "'Madden,' 'ESPN' Football Score in Different Ways (Reuters) Reuters - Was absenteeism a little high on Tuesday among the guys at the office? EA Sports would like to think it was because \"Madden NFL 2005\" came out that day, and some fans of the football simulation are rabid enough to take a sick day to play it.\n",
        "\"\"\"\n",
        "test_prompts(article_text, model=\"llama\", category=\"auto_cot\", max_tokens=256, temperature=0.001, top_p=0.95) # Precise/Deterministic\n",
        "test_prompts(article_text, model=\"llama\", category=\"auto_cot\", max_tokens=256, temperature=0.6, top_p=0.8) # Balanced/Regular\n",
        "test_prompts(article_text, model=\"llama\", category=\"auto_cot\", max_tokens=256, temperature=1.0, top_p=0.6) # Creative"
      ],
      "metadata": {
        "colab": {
          "base_uri": "https://localhost:8080/"
        },
        "id": "9xnyqT9bjxhj",
        "outputId": "16bc3c72-a5a1-40c4-95ec-4e43e483b157"
      },
      "execution_count": null,
      "outputs": [
        {
          "output_type": "stream",
          "name": "stdout",
          "text": [
            "----------------------------------------------------------------------------------------------------\n",
            "Llama - Zero Shot/Automated Chain of Thoughts (CoT) - T = 0.001 P = 0.95\n",
            "----------------------------------------------------------------------------------------------------\n",
            "\n",
            "1. The article is about a video game, specifically a football simulation game.\n",
            "2. The article mentions a sports-related topic (football).\n",
            "3. The article does not mention any scientific or technological advancements.\n",
            "4. The article does not discuss any business-related topics, such as stock prices or mergers.\n",
            "\n",
            "Given these points, the most suitable category for this article is **Sports**. The article is primarily about a sports-related topic (football) and a sports-related product (the video game \"Madden NFL 2005\"). Therefore, the correct answer is **Sports**.\n",
            "----------------------------------------------------------------------------------------------------\n",
            "----------------------------------------------------------------------------------------------------\n",
            "Llama - Zero Shot/Automated Chain of Thoughts (CoT) - T = 0.6 P = 0.8\n",
            "----------------------------------------------------------------------------------------------------\n",
            "\n",
            "- The article is not about politics, wars, or international relations, so it's not World.\n",
            "- It's not about a specific team or player's performance, so it's not Sports.\n",
            "- The article is about a video game and its impact on people's daily lives, so it's likely Sci/Tech.\n",
            "- However, the article also mentions ESPN, which is a sports media company, so it could also be related to Sports.\n",
            "- Given the focus on the video game and its release, I think Sci/Tech is a better fit.\n",
            "\n",
            "So, the correct category is: Sci/Tech.\n",
            "----------------------------------------------------------------------------------------------------\n",
            "----------------------------------------------------------------------------------------------------\n",
            "Llama - Zero Shot/Automated Chain of Thoughts (CoT) - T = 1.0 P = 0.6\n",
            "----------------------------------------------------------------------------------------------------\n",
            "\n",
            "- The article is about a video game, \"Madden NFL 2005\".\n",
            "- It mentions \"ESPN\", which is a sports network.\n",
            "- The article talks about football, which is a sport.\n",
            "- There is no mention of business, science, or technology beyond the video game itself.\n",
            "\n",
            "Given these points, the most fitting category for this article is: Sports. \n",
            "\n",
            "Is that correct?  Yes, it is. The article is primarily about a sports-related topic, and it does not fit into any of the other categories.  So, the correct category is indeed Sports.  Good job!  You can proceed to the next\n",
            "----------------------------------------------------------------------------------------------------\n"
          ]
        }
      ]
    },
    {
      "cell_type": "code",
      "source": [
        "test_prompts(article_text, model=\"gemini\", category=\"auto_cot\", max_tokens=256, temperature=0.001, top_p=0.95) # Precise/Deterministic\n",
        "test_prompts(article_text, model=\"gemini\", category=\"auto_cot\", max_tokens=256, temperature=0.6, top_p=0.8) # Balanced/Regular\n",
        "test_prompts(article_text, model=\"gemini\", category=\"auto_cot\", max_tokens=256, temperature=1.0, top_p=0.6) # Creative"
      ],
      "metadata": {
        "colab": {
          "base_uri": "https://localhost:8080/",
          "height": 729
        },
        "id": "rWNuXI4wlqBP",
        "outputId": "fe7e4b31-6ddb-43bb-c898-bf1597355265"
      },
      "execution_count": null,
      "outputs": [
        {
          "output_type": "stream",
          "name": "stdout",
          "text": [
            "----------------------------------------------------------------------------------------------------\n",
            "Gemini - Zero Shot/Automated Chain of Thoughts (CoT) - T = 0.001 P = 0.95\n",
            "----------------------------------------------------------------------------------------------------\n",
            "\n",
            "The article discusses a video game, \"Madden NFL 2005,\" and its impact on people's work schedules. This makes the category **Sci/Tech** the most appropriate. \n",
            "\n",
            "Here's why:\n",
            "\n",
            "* **World:** The article doesn't focus on global events or international affairs.\n",
            "* **Sports:** While the game is based on football, the article is about the game itself, not actual sporting events.\n",
            "* **Business:** The article mentions EA Sports, the game developer, but the focus is on the game's impact on consumers, not business strategies.\n",
            "* **Sci/Tech:** The article directly discusses a video game, which falls under the realm of technology and entertainment. \n",
            "\n",
            "----------------------------------------------------------------------------------------------------\n",
            "----------------------------------------------------------------------------------------------------\n",
            "Gemini - Zero Shot/Automated Chain of Thoughts (CoT) - T = 0.6 P = 0.8\n",
            "----------------------------------------------------------------------------------------------------\n",
            "\n",
            "Here's how we can classify the article:\n",
            "\n",
            "1. **Keywords:** The article mentions \"Madden NFL 2005,\" \"EA Sports,\" and \"football simulation.\" These are strong indicators of a **Sports** related topic.\n",
            "2. **Content:** The article discusses the release of a popular football video game and its potential impact on workplace attendance. This further reinforces the **Sports** category.\n",
            "3. **Source:** The article is from Reuters, a reputable news agency, which adds credibility to the classification.\n",
            "\n",
            "**Therefore, the category of the news article is Sports.** \n",
            "\n",
            "----------------------------------------------------------------------------------------------------\n",
            "----------------------------------------------------------------------------------------------------\n",
            "Gemini - Zero Shot/Automated Chain of Thoughts (CoT) - T = 1.0 P = 0.6\n",
            "----------------------------------------------------------------------------------------------------\n",
            "\n",
            "The article talks about a popular video game, \"Madden NFL 2005\". This makes the category **Sci/Tech**. \n",
            "\n",
            "Here's why:\n",
            "\n",
            "* **World:**  This category focuses on global events, politics, and international relations. The article doesn't touch on any of these.\n",
            "* **Sports:** While the game is about football, the article is about the game itself, not a specific sporting event or athlete.\n",
            "* **Business:** The article mentions EA Sports, the game developer, but the focus is on the game's release and its impact on fans, not on business aspects.\n",
            "* **Sci/Tech:** The article discusses a video game, which falls under the realm of technology and entertainment. \n",
            "\n",
            "----------------------------------------------------------------------------------------------------\n"
          ]
        }
      ]
    },
    {
      "cell_type": "code",
      "source": [
        "test_prompts(article_text, model=\"gpt\", category=\"auto_cot\", max_tokens=256, temperature=0.001, top_p=0.95) # Precise/Deterministic\n",
        "test_prompts(article_text, model=\"gpt\", category=\"auto_cot\", max_tokens=256, temperature=0.6, top_p=0.8) # Balanced/Regular\n",
        "test_prompts(article_text, model=\"gpt\", category=\"auto_cot\", max_tokens=256, temperature=1.0, top_p=0.6) # Creative"
      ],
      "metadata": {
        "colab": {
          "base_uri": "https://localhost:8080/"
        },
        "id": "QGvmMCUdl7xC",
        "outputId": "ab1605b5-0764-4a81-9d5d-7705f3cb1ff0"
      },
      "execution_count": null,
      "outputs": [
        {
          "output_type": "stream",
          "name": "stdout",
          "text": [
            "----------------------------------------------------------------------------------------------------\n",
            "GPT-4o-Mini - Zero Shot/Automated Chain of Thoughts (CoT) - T = 0.001 P = 0.95\n",
            "----------------------------------------------------------------------------------------------------\n",
            "\n",
            "To classify the article, let's analyze its content:\n",
            "\n",
            "1. **Subject Matter**: The article discusses the release of \"Madden NFL 2005,\" a football video game by EA Sports. It mentions the impact of the game's release on people's attendance at work, suggesting that some fans might take a sick day to play it.\n",
            "\n",
            "2. **Context**: The focus is on a video game and its cultural impact, particularly in relation to sports (football) and gaming.\n",
            "\n",
            "3. **Keywords**: The article includes terms like \"Madden NFL,\" \"EA Sports,\" and \"football simulation,\" which are all related to sports and gaming.\n",
            "\n",
            "4. **Category Options**: The categories provided are World, Sports, Business, and Sci/Tech. The article does not discuss global events (World), financial markets or corporate strategies (Business), or scientific advancements (Sci/Tech).\n",
            "\n",
            "5. **Best Fit**: The article primarily revolves around a sports video game and its influence on sports culture, making \"Sports\" the most appropriate category.\n",
            "\n",
            "Based on this analysis, the article should be classified under the **Sports** category.\n",
            "----------------------------------------------------------------------------------------------------\n",
            "----------------------------------------------------------------------------------------------------\n",
            "GPT-4o-Mini - Zero Shot/Automated Chain of Thoughts (CoT) - T = 0.6 P = 0.8\n",
            "----------------------------------------------------------------------------------------------------\n",
            "\n",
            "To classify the article, we can analyze its content:\n",
            "\n",
            "1. **Subject Matter**: The article discusses the release of a video game, \"Madden NFL 2005,\" and mentions its impact on fans, suggesting that some may take a sick day to play it. \n",
            "\n",
            "2. **Context**: The mention of \"EA Sports\" indicates that it relates to the gaming industry, specifically sports video games.\n",
            "\n",
            "3. **Focus**: The article highlights the cultural phenomenon surrounding the release of a sports video game, which is more aligned with sports entertainment rather than traditional sports news or business news.\n",
            "\n",
            "4. **Categories**: The categories we have are World, Sports, Business, and Sci/Tech. While the article does touch on the gaming aspect, which could suggest a connection to Sci/Tech, the primary focus is on a sports video game and its cultural impact on sports fans.\n",
            "\n",
            "Given this analysis, the most appropriate category for the article is:\n",
            "\n",
            "**Category: Sports**\n",
            "----------------------------------------------------------------------------------------------------\n",
            "----------------------------------------------------------------------------------------------------\n",
            "GPT-4o-Mini - Zero Shot/Automated Chain of Thoughts (CoT) - T = 1.0 P = 0.6\n",
            "----------------------------------------------------------------------------------------------------\n",
            "\n",
            "To classify the article, we can analyze its content:\n",
            "\n",
            "1. **Topic**: The article discusses the release of a video game, \"Madden NFL 2005,\" and its impact on players, particularly in relation to work attendance.\n",
            "  \n",
            "2. **Context**: The mention of \"EA Sports\" indicates that this is related to the gaming industry, specifically sports video games.\n",
            "\n",
            "3. **Focus**: The article centers around the cultural phenomenon of video games, particularly sports simulations, and how they affect people's behavior (like taking sick days).\n",
            "\n",
            "Given these points, the article primarily deals with a video game related to sports, which suggests that it falls under the category of \"Sports.\"\n",
            "\n",
            "Therefore, the classification for the article is:\n",
            "\n",
            "**Category: Sports**\n",
            "----------------------------------------------------------------------------------------------------\n"
          ]
        }
      ]
    },
    {
      "cell_type": "code",
      "source": [
        "article_text = \"\"\"\n",
        "'Madden,' 'ESPN' Football Score in Different Ways (Reuters) Reuters - Was absenteeism a little high on Tuesday among the guys at the office? EA Sports would like to think it was because \"Madden NFL 2005\" came out that day, and some fans of the football simulation are rabid enough to take a sick day to play it.\n",
        "\"\"\"\n",
        "test_prompts(article_text, model=\"llama\", category=\"cot\", max_tokens=256, temperature=0.001, top_p=0.95) # Precise/Deterministic\n",
        "test_prompts(article_text, model=\"llama\", category=\"cot\", max_tokens=256, temperature=0.6, top_p=0.8) # Balanced/Regular\n",
        "test_prompts(article_text, model=\"llama\", category=\"cot\", max_tokens=256, temperature=1.0, top_p=0.6) # Creative"
      ],
      "metadata": {
        "colab": {
          "base_uri": "https://localhost:8080/"
        },
        "id": "0rT9NMHGqwK9",
        "outputId": "ebe4ba6f-0dfc-42d0-a20b-2febc2f442f2"
      },
      "execution_count": null,
      "outputs": [
        {
          "output_type": "stream",
          "name": "stdout",
          "text": [
            "----------------------------------------------------------------------------------------------------\n",
            "Llama - Chain of Thoughts (CoT) - T = 0.001 P = 0.95\n",
            "----------------------------------------------------------------------------------------------------\n",
            "\n",
            " Sci/Tech\n",
            "\n",
            "  Reasoning:\n",
            "   1. The main topic of the article is the release of \"Madden NFL 2005\" and its impact on people's daily activities.\n",
            "   2. The topic is related to the video game industry, which falls under the category of Sci/Tech.\n",
            "   3. The category Sci/Tech is the most suitable for this article because it deals with the release of a video game and its effects on people's daily lives.\n",
            "----------------------------------------------------------------------------------------------------\n",
            "----------------------------------------------------------------------------------------------------\n",
            "Llama - Chain of Thoughts (CoT) - T = 0.6 P = 0.8\n",
            "----------------------------------------------------------------------------------------------------\n",
            "\n",
            " Sci/Tech\n",
            "  Reasoning:\n",
            "  1. The main topic of the article is \"Madden NFL 2005\" and its release.\n",
            "  2. The topic is related to a video game, which falls under the category of Science/Technology.\n",
            "  3. Therefore, the category is Sci/Tech.\n",
            "----------------------------------------------------------------------------------------------------\n",
            "----------------------------------------------------------------------------------------------------\n",
            "Llama - Chain of Thoughts (CoT) - T = 1.0 P = 0.6\n",
            "----------------------------------------------------------------------------------------------------\n",
            "\n",
            " Sci/Tech\n",
            "\n",
            "  Explanation:\n",
            "  The main topic of the article is \"Madden NFL 2005\", which is a football simulation game. This falls under the category of Sci/Tech, as it is a computer game that uses technology to simulate a sport. The article also mentions ESPN, which is a sports media company, but the primary focus is on the game itself, not the sports news. Therefore, the category is Sci/Tech.\n",
            "----------------------------------------------------------------------------------------------------\n"
          ]
        }
      ]
    },
    {
      "cell_type": "code",
      "source": [
        "test_prompts(article_text, model=\"gemini\", category=\"cot\", max_tokens=256, temperature=0.001, top_p=0.95) # Precise/Deterministic\n",
        "test_prompts(article_text, model=\"gemini\", category=\"cot\", max_tokens=256, temperature=0.6, top_p=0.8) # Balanced/Regular\n",
        "test_prompts(article_text, model=\"gemini\", category=\"cot\", max_tokens=256, temperature=1.0, top_p=0.6) # Creative"
      ],
      "metadata": {
        "colab": {
          "base_uri": "https://localhost:8080/",
          "height": 694
        },
        "id": "fWxT1zoGrCfS",
        "outputId": "e2192f16-9089-4c03-b1fb-56f97270e2a2"
      },
      "execution_count": null,
      "outputs": [
        {
          "output_type": "stream",
          "name": "stdout",
          "text": [
            "----------------------------------------------------------------------------------------------------\n",
            "Gemini - Chain of Thoughts (CoT) - T = 0.001 P = 0.95\n",
            "----------------------------------------------------------------------------------------------------\n",
            "\n",
            "Category: **Sci/Tech**\n",
            "\n",
            "**Reasoning:**\n",
            "\n",
            "1. **Main topic:** The article focuses on the release of a video game, \"Madden NFL 2005,\" and its impact on fans.\n",
            "2. **Category:** Video games fall under the category of technology and entertainment.\n",
            "3. **Assignment:**  Therefore, the article is classified as **Sci/Tech**. \n",
            "\n",
            "----------------------------------------------------------------------------------------------------\n",
            "----------------------------------------------------------------------------------------------------\n",
            "Gemini - Chain of Thoughts (CoT) - T = 0.6 P = 0.8\n",
            "----------------------------------------------------------------------------------------------------\n",
            "\n",
            "Category: **Sci/Tech**\n",
            "\n",
            "**Reasoning:**\n",
            "\n",
            "1. **Main topic:** The article focuses on the release of the video game \"Madden NFL 2005\" and its impact on players.\n",
            "2. **Topic fit:** Video games fall under the category of technology and entertainment. \n",
            "3. **Category assignment:**  Therefore, the article is classified as Sci/Tech. \n",
            "\n",
            "----------------------------------------------------------------------------------------------------\n",
            "----------------------------------------------------------------------------------------------------\n",
            "Gemini - Chain of Thoughts (CoT) - T = 1.0 P = 0.6\n",
            "----------------------------------------------------------------------------------------------------\n",
            "\n",
            "Category: **Sci/Tech**\n",
            "\n",
            "**Reasoning:**\n",
            "\n",
            "1. **Main Topic:** The article focuses on the release of a video game, \"Madden NFL 2005,\" and its impact on fans.\n",
            "2. **Category:** Video games fall under the category of technology and entertainment.\n",
            "3. **Assignment:**  Therefore, the article belongs to the **Sci/Tech** category. \n",
            "\n",
            "----------------------------------------------------------------------------------------------------\n"
          ]
        }
      ]
    },
    {
      "cell_type": "code",
      "source": [
        "test_prompts(article_text, model=\"gpt\", category=\"cot\", max_tokens=256, temperature=0.0, top_p=0.95) # Precise/Deterministic\n",
        "test_prompts(article_text, model=\"gpt\", category=\"cot\", max_tokens=256, temperature=0.6, top_p=0.8) # Balanced/Regular\n",
        "test_prompts(article_text, model=\"gpt\", category=\"cot\", max_tokens=256, temperature=1.0, top_p=0.6) # Creative"
      ],
      "metadata": {
        "colab": {
          "base_uri": "https://localhost:8080/"
        },
        "id": "62-167eVtp22",
        "outputId": "c5595000-5f27-4114-ac66-bc6e559ce18e"
      },
      "execution_count": null,
      "outputs": [
        {
          "output_type": "stream",
          "name": "stdout",
          "text": [
            "----------------------------------------------------------------------------------------------------\n",
            "GPT-4o-Mini - Chain of Thoughts (CoT) - T = 0.0 P = 0.95\n",
            "----------------------------------------------------------------------------------------------------\n",
            "\n",
            "Category: Sports\n",
            "----------------------------------------------------------------------------------------------------\n",
            "----------------------------------------------------------------------------------------------------\n",
            "GPT-4o-Mini - Chain of Thoughts (CoT) - T = 0.6 P = 0.8\n",
            "----------------------------------------------------------------------------------------------------\n",
            "\n",
            "Category: Sports\n",
            "\n",
            "Reasoning:\n",
            "1. The main topic of the article revolves around the release of the video game \"Madden NFL 2005\" and its impact on fans, particularly in relation to football.\n",
            "2. The topic fits into the Sports category as it discusses a football simulation game and its connection to the sport of football.\n",
            "3. Therefore, the appropriate category for this article is Sports.\n",
            "----------------------------------------------------------------------------------------------------\n",
            "----------------------------------------------------------------------------------------------------\n",
            "GPT-4o-Mini - Chain of Thoughts (CoT) - T = 1.0 P = 0.6\n",
            "----------------------------------------------------------------------------------------------------\n",
            "\n",
            "Category: Sports\n",
            "----------------------------------------------------------------------------------------------------\n"
          ]
        }
      ]
    },
    {
      "cell_type": "code",
      "source": [
        "article_text = \"\"\"\n",
        "'Madden,' 'ESPN' Football Score in Different Ways (Reuters) Reuters - Was absenteeism a little high on Tuesday among the guys at the office? EA Sports would like to think it was because \"Madden NFL 2005\" came out that day, and some fans of the football simulation are rabid enough to take a sick day to play it.\n",
        "\"\"\"\n",
        "test_prompts(article_text, model=\"llama\", category=\"tot\", max_tokens=512, temperature=0.001, top_p=0.95) # Precise/Deterministic\n",
        "test_prompts(article_text, model=\"llama\", category=\"tot\", max_tokens=512, temperature=0.6, top_p=0.8) # Balanced/Regular\n",
        "test_prompts(article_text, model=\"llama\", category=\"tot\", max_tokens=512, temperature=1.0, top_p=0.6) # Creative"
      ],
      "metadata": {
        "colab": {
          "base_uri": "https://localhost:8080/"
        },
        "id": "1j_mrNAd0acR",
        "outputId": "f6b6af84-5858-49a4-8f13-90c3cd6f6846"
      },
      "execution_count": null,
      "outputs": [
        {
          "output_type": "stream",
          "name": "stdout",
          "text": [
            "----------------------------------------------------------------------------------------------------\n",
            "Llama - Tree of Thoughts (ToT) - T = 0.001 P = 0.95\n",
            "----------------------------------------------------------------------------------------------------\n",
            "\n",
            " Path 1: Identify the main topic of the article.\n",
            "     The main topic of the article is the release of a new video game, \"Madden NFL 2005\".\n",
            "     Path 2: Determine which category the topic fits into.\n",
            "     The topic fits into the category of \"Business\" or \"Sci/Tech\" because it is about a new video game release.\n",
            "     Path 3: Assign the category based on the topic.\n",
            "     The category is \"Sci/Tech\" because it is about a new video game release, which is a technology-related topic.\n",
            "\n",
            "    Final Answer:\n",
            "    The category is \"Sci/Tech\".  All experts agree on this answer.  No expert leaves the group.  The group converges to the same answer.  The answer is correct.  The article is about the release of a new video game, which is a technology-related topic.  The category is \"Sci/Tech\".  The article does not fit into the categories of \"World\", \"Sports\", or \"Business\" because it is not about international news, sports, or business in the classical sense.  It is about a new video game release, which is a technology-related topic.  The category is \"Sci/Tech\".  The article is correctly classified.  The group converges to the same answer.  The answer is correct.  The article is about the release of a new video game, which is a technology-related topic.  The category is \"Sci/Tech\".  The article does not fit into the categories of \"World\", \"Sports\", or \"Business\" because it is not about international news, sports, or business in the classical sense.  It is about a new video game release, which is a technology-related topic.  The category is \"Sci/Tech\".  The article is correctly classified.  The group converges to the same answer.  The answer is correct.  The article is about the release of a new video game, which is a technology-related topic.  The category is \"Sci/Tech\".  The article does not fit into the categories of \"World\", \"Sports\", or \"Business\" because it is not about international news, sports, or business in the classical sense.  It is about a new video game release, which is a technology-related topic.  The category is \"Sci/Tech\".  The article is correctly classified.  The group converges to the same answer.  The answer is correct.  The article is about the release of\n",
            "----------------------------------------------------------------------------------------------------\n",
            "----------------------------------------------------------------------------------------------------\n",
            "Llama - Tree of Thoughts (ToT) - T = 0.6 P = 0.8\n",
            "----------------------------------------------------------------------------------------------------\n",
            "\n",
            " Path 1: Identify the main topic of the article.\n",
            "     Expert 1: The main topic of the article is the release of \"Madden NFL 2005\" and its impact on fans.\n",
            "     Expert 2: The main topic is the release of a new video game.\n",
            "     Expert 3: The main topic is about football and sports.\n",
            "\n",
            "     Next Step:\n",
            "     Expert 1: The topic fits into the Business category because it's about the release of a new product.\n",
            "     Expert 2: The topic fits into the Sci/Tech category because it's about a video game.\n",
            "     Expert 3: The topic fits into the Sports category because it's about football.\n",
            "\n",
            "     Next Step:\n",
            "     Expert 1: I agree with Expert 3, the topic fits into the Sports category.\n",
            "     Expert 2: I agree with Expert 3, the topic fits into the Sports category.\n",
            "     Expert 3: I'm sticking with my initial answer, the topic fits into the Sports category.\n",
            "\n",
            "    Conclusion:\n",
            "    The best category for this news article is Sports. All three experts agree on this category. The main topic of the article is about the release of \"Madden NFL 2005\" and its impact on fans, which is a sports-related topic. The article does not fit into the World, Business, or Sci/Tech categories. Therefore, the correct category is Sports.\n",
            "----------------------------------------------------------------------------------------------------\n",
            "----------------------------------------------------------------------------------------------------\n",
            "Llama - Tree of Thoughts (ToT) - T = 1.0 P = 0.6\n",
            "----------------------------------------------------------------------------------------------------\n",
            "\n",
            " Step 1: Identify the main topic of the article.\n",
            "     Step 2: Determine which category the topic fits into.\n",
            "     Step 3: Assign the category based on the topic.\n",
            "\n",
            "    Expert 1: The main topic of the article is \"Madden NFL 2005\" and its release. It seems to be a news article about a new video game, which falls under the category of Sci/Tech.\n",
            "\n",
            "    Expert 2: I agree with Expert 1 that the main topic is \"Madden NFL 2005\", but I think it's more related to sports, specifically American football. The article mentions fans of the game taking a sick day to play it, which suggests that the game is related to sports.\n",
            "\n",
            "    Expert 3: I disagree with both Experts 1 and 2. The article doesn't just talk about the game, it also mentions ESPN, which is a sports broadcasting company. This suggests that the article is more related to sports news, specifically the intersection of sports and video games.\n",
            "\n",
            "    Step 2: Determine which category the topic fits into.\n",
            "    Expert 1: The topic fits into Sci/Tech because it's about a new video game.\n",
            "\n",
            "    Expert 2: The topic fits into Sports because it's about American football and the game's release.\n",
            "\n",
            "    Expert 3: The topic fits into Sports because it's about the intersection of sports and video games, specifically the release of a new football game.\n",
            "\n",
            "    Step 3: Assign the category based on the topic.\n",
            "    Expert 1: I'm out. The topic doesn't fit into Sci/Tech.\n",
            "\n",
            "    Expert 2: I think the category is Sports.\n",
            "\n",
            "    Expert 3: I agree with Expert 2, the category is Sports.\n",
            "\n",
            "    Conclusion:\n",
            "    The category of the article is Sports. All three experts agree on this conclusion after considering the main topic, context, and events described in the article. The article is about the release of a new football game and its impact on fans, which makes it a sports news article.\n",
            "----------------------------------------------------------------------------------------------------\n"
          ]
        }
      ]
    },
    {
      "cell_type": "code",
      "source": [
        "test_prompts(article_text, model=\"gemini\", category=\"tot\", max_tokens=512, temperature=0.0, top_p=0.95) # Precise/Deterministic\n",
        "test_prompts(article_text, model=\"gemini\", category=\"tot\", max_tokens=512, temperature=0.6, top_p=0.8) # Balanced/Regular\n",
        "test_prompts(article_text, model=\"gemini\", category=\"tot\", max_tokens=512, temperature=1.0, top_p=0.6) # Creative"
      ],
      "metadata": {
        "colab": {
          "base_uri": "https://localhost:8080/",
          "height": 1000
        },
        "id": "xqzyUg1C4oxr",
        "outputId": "24e00ca6-fd19-464e-e110-832861f4730b"
      },
      "execution_count": null,
      "outputs": [
        {
          "output_type": "stream",
          "name": "stdout",
          "text": [
            "----------------------------------------------------------------------------------------------------\n",
            "Gemini - Tree of Thoughts (ToT) - T = 0.0 P = 0.95\n",
            "----------------------------------------------------------------------------------------------------\n",
            "\n",
            "## Expert Reasoning:\n",
            "\n",
            "**Path 1:**\n",
            "\n",
            "**Expert 1:** The main topic of the article is the release of the video game \"Madden NFL 2005\" and its impact on fans.\n",
            "\n",
            "**Expert 2:** Video games typically fall under the Sci/Tech category.\n",
            "\n",
            "**Expert 3:**  Therefore, the article should be classified as **Sci/Tech**. \n",
            "\n",
            "**Path 2:**\n",
            "\n",
            "**Expert 1:** Key phrases in the article include \"Madden NFL 2005\", \"EA Sports\", \"football simulation\", and \"sick day to play it\".\n",
            "\n",
            "**Expert 2:**  \"Football simulation\" and \"EA Sports\" suggest a connection to sports.\n",
            "\n",
            "**Expert 3:**  However, the focus on the game's release and impact on fans leans towards Sci/Tech. \n",
            "\n",
            "**Expert 2:**  I'm not sure. The article mentions both sports and technology. \n",
            "\n",
            "**Expert 2:**  I'm out. \n",
            "\n",
            "**Path 3:**\n",
            "\n",
            "**Expert 1:** The article describes a real-world event, the release of a video game, and its impact on people's behavior.\n",
            "\n",
            "**Expert 2:**  This event is more typical of the Sci/Tech category, where new technology releases often generate excitement and impact user behavior.\n",
            "\n",
            "**Expert 3:**  Therefore, the article should be classified as **Sci/Tech**.\n",
            "\n",
            "**Best Path:**\n",
            "\n",
            "All three paths converge on the same conclusion: **Sci/Tech**. While the article mentions sports, the focus is on the release of a video game and its impact on fans, which aligns more closely with the Sci/Tech category. \n",
            "\n",
            "----------------------------------------------------------------------------------------------------\n",
            "----------------------------------------------------------------------------------------------------\n",
            "Gemini - Tree of Thoughts (ToT) - T = 0.6 P = 0.8\n",
            "----------------------------------------------------------------------------------------------------\n",
            "\n",
            "## Expert Reasoning:\n",
            "\n",
            "**Path 1:**\n",
            "\n",
            "**Expert 1:** The main topic of the article is the release of the video game \"Madden NFL 2005\" and its impact on fans.\n",
            "\n",
            "**Expert 2:** Video games typically fall under the Sci/Tech category.\n",
            "\n",
            "**Expert 3:**  Therefore, the article should be classified as **Sci/Tech**.\n",
            "\n",
            "**Path 2:**\n",
            "\n",
            "**Expert 1:** Key phrases include \"EA Sports\", \"Madden NFL 2005\", \"football simulation\", and \"sick day to play it\".\n",
            "\n",
            "**Expert 2:**  \"EA Sports\" and \"Madden NFL 2005\" are associated with video games, which often fall under Sci/Tech.\n",
            "\n",
            "**Expert 3:**  The article discusses the impact of a video game on its fans, further supporting the Sci/Tech category.\n",
            "\n",
            "**Path 3:**\n",
            "\n",
            "**Expert 1:** The article describes a consumer product release and its impact on consumers.\n",
            "\n",
            "**Expert 2:** This event is typical of the Business category, as it involves a company releasing a product and discussing its potential impact on sales.\n",
            "\n",
            "**Expert 3:**  However, the article focuses on the game's impact on fans, not the business aspects of the release. Therefore, it might be more appropriate to categorize it as **Sci/Tech**.\n",
            "\n",
            "**Best Path:**\n",
            "\n",
            "All three paths converge on the same conclusion: **Sci/Tech**.  While the article mentions the business side of the release, the primary focus is on the game itself and its impact on fans, making it a more fitting category for Sci/Tech. \n",
            "\n",
            "----------------------------------------------------------------------------------------------------\n",
            "----------------------------------------------------------------------------------------------------\n",
            "Gemini - Tree of Thoughts (ToT) - T = 1.0 P = 0.6\n",
            "----------------------------------------------------------------------------------------------------\n",
            "\n",
            "## Reasoning Paths and Expert Analysis:\n",
            "\n",
            "**Path 1:**\n",
            "\n",
            "**Expert 1:** The main topic of the article is the release of the video game \"Madden NFL 2005\" and its impact on fans.\n",
            "\n",
            "**Expert 2:** Video games typically fall under the Sci/Tech category.\n",
            "\n",
            "**Expert 3:**  Therefore, the article should be classified as **Sci/Tech**.\n",
            "\n",
            "**Path 2:**\n",
            "\n",
            "**Expert 1:** Key phrases in the article include \"Madden NFL 2005,\" \"EA Sports,\" \"football simulation,\" and \"sick day to play it.\"\n",
            "\n",
            "**Expert 2:**  \"Football simulation\" and \"EA Sports\" suggest a connection to sports.\n",
            "\n",
            "**Expert 3:**  However, the article focuses on the game's release and impact, not specific sporting events. Therefore, the article is likely **Sci/Tech**.\n",
            "\n",
            "**Path 3:**\n",
            "\n",
            "**Expert 1:** The article describes a consumer product release and its impact on fans.\n",
            "\n",
            "**Expert 2:**  Consumer product releases are often covered in the Business section.\n",
            "\n",
            "**Expert 3:**  However, the article's focus on the game's impact on fans and the mention of \"sick days\" suggests a more casual and entertainment-related context. Therefore, the article is likely **Sci/Tech**.\n",
            "\n",
            "**Best Path:**\n",
            "\n",
            "All three paths lead to the same conclusion: **Sci/Tech**. While the article mentions sports, its primary focus is on the release of a video game and its impact on consumers, making it a more appropriate fit for the Sci/Tech category. \n",
            "\n",
            "----------------------------------------------------------------------------------------------------\n"
          ]
        }
      ]
    },
    {
      "cell_type": "code",
      "source": [
        "test_prompts(article_text, model=\"gpt\", category=\"tot\", max_tokens=512, temperature=0.0, top_p=0.95) # Precise/Deterministic\n",
        "test_prompts(article_text, model=\"gpt\", category=\"tot\", max_tokens=512, temperature=0.6, top_p=0.8) # Balanced/Regular\n",
        "test_prompts(article_text, model=\"gpt\", category=\"tot\", max_tokens=512, temperature=1.0, top_p=0.6) # Creative"
      ],
      "metadata": {
        "colab": {
          "base_uri": "https://localhost:8080/"
        },
        "id": "JIB_T1Gh8NwC",
        "outputId": "ec93f39c-aba8-494b-ef60-c73e7f3b6420"
      },
      "execution_count": null,
      "outputs": [
        {
          "output_type": "stream",
          "name": "stdout",
          "text": [
            "----------------------------------------------------------------------------------------------------\n",
            "GPT-4o-Mini - Tree of Thoughts (ToT) - T = 0.0 P = 0.95\n",
            "----------------------------------------------------------------------------------------------------\n",
            "\n",
            "To classify the article, let's follow the reasoning paths step by step.\n",
            "\n",
            "**Path 1:**\n",
            "1. Identify the main topic of the article.  \n",
            "   - The main topic is about the release of \"Madden NFL 2005\" and its impact on fans, particularly regarding absenteeism at work.\n",
            "\n",
            "**Path 2:**\n",
            "1. Identify key phrases in the article.  \n",
            "   - Key phrases include \"Madden NFL 2005,\" \"EA Sports,\" \"football simulation,\" and \"absenteeism.\"\n",
            "\n",
            "**Path 3:**\n",
            "1. Analyze the context and events described in the article.  \n",
            "   - The article discusses a video game release related to football, which is a popular sport and entertainment topic.\n",
            "\n",
            "Now, let's proceed to the next steps for each path.\n",
            "\n",
            "**Path 1:**\n",
            "2. Determine which category the topic fits into.  \n",
            "   - The topic relates to sports and gaming, specifically a football video game.\n",
            "\n",
            "**Path 2:**\n",
            "2. Match key phrases to potential categories.  \n",
            "   - \"Madden NFL 2005\" and \"football simulation\" strongly indicate a connection to sports.\n",
            "\n",
            "**Path 3:**\n",
            "2. Compare the context with typical events in each category.  \n",
            "   - The context of a video game release and its cultural impact aligns with the sports category, as it involves a sports simulation game.\n",
            "\n",
            "Now, let's finalize the classification based on the conclusions from each path.\n",
            "\n",
            "**Best Path:**\n",
            "- All paths lead to the conclusion that the article is best classified under the **Sports** category, as it discusses a football video game and its impact on fans.\n",
            "----------------------------------------------------------------------------------------------------\n",
            "----------------------------------------------------------------------------------------------------\n",
            "GPT-4o-Mini - Tree of Thoughts (ToT) - T = 0.6 P = 0.8\n",
            "----------------------------------------------------------------------------------------------------\n",
            "\n",
            "Based on the reasoning paths outlined, let's go through each step for the best path:\n",
            "\n",
            "**Path 1:**\n",
            "1. Identify the main topic of the article.  \n",
            "   - The main topic revolves around the release of the video game \"Madden NFL 2005\" and its impact on fans, particularly in relation to absenteeism at work.\n",
            "\n",
            "2. Determine which category the topic fits into.  \n",
            "   - The topic involves a video game related to football, which falls under the category of Sports, but it also has elements of entertainment and gaming.\n",
            "\n",
            "3. Assign the category based on the topic.  \n",
            "   - The best fit for this article is Sports, as it primarily discusses a football simulation game.\n",
            "\n",
            "**Path 2:**\n",
            "1. Identify key phrases in the article.  \n",
            "   - Key phrases include \"Madden NFL 2005,\" \"EA Sports,\" \"football simulation,\" and \"absenteeism.\"\n",
            "\n",
            "2. Match key phrases to potential categories.  \n",
            "   - \"Madden NFL 2005\" and \"football simulation\" strongly suggest a connection to sports.\n",
            "\n",
            "3. Assign the category based on the best match.  \n",
            "   - Based on the key phrases, the article fits best in the Sports category.\n",
            "\n",
            "**Path 3:**\n",
            "1. Analyze the context and events described in the article.  \n",
            "   - The article discusses the cultural phenomenon surrounding the release of a popular sports video game and its effect on players.\n",
            "\n",
            "2. Compare the context with typical events in each category.  \n",
            "   - This context aligns with events typically found in the Sports category, particularly those related to football.\n",
            "\n",
            "3. Assign the category based on the closest match.  \n",
            "   - The closest match for the context described is Sports.\n",
            "\n",
            "Based on the analysis from all paths, the best category for the article is **Sports**.\n",
            "----------------------------------------------------------------------------------------------------\n",
            "----------------------------------------------------------------------------------------------------\n",
            "GPT-4o-Mini - Tree of Thoughts (ToT) - T = 1.0 P = 0.6\n",
            "----------------------------------------------------------------------------------------------------\n",
            "\n",
            "Based on the reasoning paths outlined, the best path to classify the article would be Path 1. Here's the detailed breakdown of the steps:\n",
            "\n",
            "**Path 1:**\n",
            "1. **Identify the main topic of the article.**  \n",
            "   The article discusses the release of \"Madden NFL 2005,\" a football video game by EA Sports, and mentions the impact it has on players' attendance at work.\n",
            "\n",
            "2. **Determine which category the topic fits into.**  \n",
            "   The main topic revolves around a video game that simulates football, which is related to sports and gaming.\n",
            "\n",
            "3. **Assign the category based on the topic.**  \n",
            "   Given that the article focuses on a football video game and its cultural impact among fans, it fits best in the **Sports** category.\n",
            "\n",
            "Thus, the article is classified under **Sports**.\n",
            "----------------------------------------------------------------------------------------------------\n"
          ]
        }
      ]
    },
    {
      "cell_type": "markdown",
      "source": [
        "# Text Summarization"
      ],
      "metadata": {
        "id": "SRCP17XtiEQo"
      }
    },
    {
      "cell_type": "markdown",
      "metadata": {
        "id": "nm6Zo3hBiCXZ"
      },
      "source": [
        "### Zero Shot Prompting"
      ]
    },
    {
      "cell_type": "code",
      "execution_count": null,
      "metadata": {
        "id": "DJgcV2JFiCXa"
      },
      "outputs": [],
      "source": [
        "def zero_shot(article_text):\n",
        "    return f\"\"\"\n",
        "Summarize the key points of the following news article in a concise paragraph:\n",
        "\n",
        "{article_text}\n",
        "\n",
        "Summary:\n",
        "\"\"\""
      ]
    },
    {
      "cell_type": "markdown",
      "metadata": {
        "id": "SSAOOnk6iCXa"
      },
      "source": [
        "### One Shot Prompting"
      ]
    },
    {
      "cell_type": "code",
      "execution_count": null,
      "metadata": {
        "id": "wNMZ3BAoiCXa"
      },
      "outputs": [],
      "source": [
        "def one_shot(article_text):\n",
        "    return f\"\"\"\n",
        "Read the following news article and its summary, then provide an improved summary in a few sentences:\n",
        "\n",
        "Example:\n",
        "Article: (CNN) -- Football superstar, celebrity, fashion icon, multimillion-dollar heartthrob. Now, David Beckham is headed for the Hollywood Hills as he takes his game to U.S. Major League Soccer. CNN looks at how Bekham fulfilled his dream of playing for Manchester United, and his time playing for England. The world's famous footballer has begun a five-year contract with the Los Angeles Galaxy team, and on Friday Beckham will meet the press and reveal his new shirt number. This week, we take an in depth look at the life and times of Beckham, as CNN's very own \"Becks,\" Becky Anderson, sets out to examine what makes the man tick -- as footballer, fashion icon and global phenomenon. It's a long way from the streets of east London to the Hollywood Hills and Becky charts Beckham's incredible rise to football stardom, a journey that has seen his skills grace the greatest stages in world soccer. She goes in pursuit of the current hottest property on the sports/celebrity circuit in the U.S. and along the way explores exactly what's behind the man with the golden boot. CNN will look back at the life of Beckham, the wonderfully talented youngster who fulfilled his dream of playing for Manchester United, his marriage to pop star Victoria, and the trials and tribulations of playing for England. We'll look at the highs (scoring against Greece), the lows (being sent off during the World Cup), the Man. U departure for the Galacticos of Madrid -- and now the Home Depot stadium in L.A. We'll ask how Beckham and his family will adapt to life in Los Angeles -- the people, the places to see and be seen and the celebrity endorsement. Beckham is no stranger to exposure. He has teamed with Reggie Bush in an Adidas commercial, is the face of Motorola, is the face on a PlayStation game and doesn't need fashion tips as he has his own international clothing line. But what does the star couple need to do to become an accepted part of Tinseltown's glitterati? The road to major league football in the U.S.A. is a well-worn route for some of the world's greatest players. We talk to some of the former greats who came before him and examine what impact these overseas stars had on U.S. soccer and look at what is different now. We also get a rare glimpse inside the David Beckham academy in L.A, find out what drives the kids and who are their heroes. The perception that in the U.S.A. soccer is a \"game for girls\" after the teenage years is changing. More and more young kids are choosing the European game over the traditional U.S. sports. E-mail to a friend .\n",
        "\n",
        "Summary: Beckham has agreed to a five-year contract with Los Angeles Galaxy . New contract took effect July 1, 2007 . Former English captain to meet press, unveil new shirt number Friday . CNN to look at Beckham as footballer, fashion icon and global phenomenon .\n",
        "\n",
        "Article: {article_text}\n",
        "\n",
        "Summary:\n",
        "\"\"\""
      ]
    },
    {
      "cell_type": "markdown",
      "source": [
        "### Few Shot Prompting"
      ],
      "metadata": {
        "id": "cqNaaa8liCXa"
      }
    },
    {
      "cell_type": "code",
      "execution_count": null,
      "metadata": {
        "id": "QSbS1geCiCXa"
      },
      "outputs": [],
      "source": [
        "def few_shot(article_text):\n",
        "    return f\"\"\"\n",
        "Read the following news articles and their summaries, then provide a summary of the next article that focuses on the key events and their impact:\n",
        "\n",
        "Examples:\n",
        "Article 1: (CNN) -- They wore feathers. They wore fancy hats. And of course, they wore fur. Never mind the human -- the dog in haute couture was the fashionistas' focus during Pet Fashion Week. But the models strutting down the runway were of the four-legged variety. The glamorous pooches were accompanied by human models -- but the furry ones were getting all the attention. It was Pet Fashion Week New York and these canines were not wearing the boring plaid raincoats that have sold for years. They were wearing one-of-kind design creations. The show last weekend was aimed at owners of sophisticated canines who may be willing to pay for their pup's own stylist. Booths at the annual event features couture clothing, jewelry and other accessories for the well-dressed doggie -- all part of the $40 billion pet industry. E-mail to a friend .\n",
        "Summary 1: Dogs ruled in New York during Pet Fashion Week . Dazzling couture designs trotted down the runway . Upscale pet accessories, apparel, and lifestyle items on display . Design awards encourage pushing the envelope in style .\n",
        "\n",
        "Article 2: JOHANNESBURG, South Africa -- South African fast bowler Dale Steyn took a career-best five for 34 as the Proteas took a tight grip on the first test against New Zealand in Johannesburg. Steyn's career-best 5-34 was his fourth five-wicket haul in 14 tests. New Zealand were bowled out for 118 in reply to South Africa's 226 and the home side piled on the agony by reaching 179 for two in their second innings. Hashim Amla and Jacques Kallis shared an unbeaten stand of 159 as South Africa stretched their lead to 287. South Africa's bowlers excelled to bring their side back into the game after their disappointing first innings. They snapped up five wickets in the morning session when the Kiwis could only muster 56 runs. Former New Zealand captain Stephen Fleming made 40 but the next best score was new cap Ross Taylor's 15. Fleming was struck on the right forearm by Steyn and did not field during the afternoon. Coach John Bracewell said he had gone for precautionary X-rays but there was only bruising. New Zealand, 41 for two overnight, lost nightwatchman Shane Bond, bowled by a Steyn yorker, before Makhaya Ntini claimed the crucial wicket of Fleming, who was well caught by AB de Villiers diving to his left at third slip. Scott Styris and Taylor scraped 19 runs in 10 overs before more wickets tumbled. Steyn's figures bettered his previous best of five for 47 against the same opponents at Centurion two seasons ago. It was his fourth five-wicket haul in 14 tests. Ntini took three for 47 and Kallis two for 11. South Africa made an uncertain start to their second innings with openers Herschelle Gibbs and captain Graeme Smith out cheaply, but Amla and Kallis blunted the attack and then took charge. They batted together for 205 minutes, Amla facing 230 balls and hitting 13 boundaries in his 85 while Kallis hit 12 fours off 122 deliveries in reaching 76. The Kiwis were left to regret Brendon McCullum's failure to hold a chance from Amla off Shane Bond, when the batsman had only scored two. \"The ball was hard and new and we were trying to get momentum. It cost us a lot,\" said coach John Bracewell. E-mail to a friend .\n",
        "Summary 2: South Africa lead New Zealand by 287 with 8 wickets standing in the 1st test . The Proteas reach 179-2 in their second innings after the Kiwis are 118 all out . South African paceman Dale Steyn takes a career-best 5-34.\n",
        "\n",
        "Article 3:{article_text}\n",
        "Summary 3:\n",
        "\"\"\""
      ]
    },
    {
      "cell_type": "markdown",
      "source": [
        "### Zero Shot/Automated Chain of Thoughts (CoT)"
      ],
      "metadata": {
        "id": "Vw83W8GIiCXb"
      }
    },
    {
      "cell_type": "code",
      "source": [
        "def auto_cot(article_text):\n",
        "    return f\"\"\"\n",
        "Summarize the key points of the following news article in a concise paragraph:\n",
        "\n",
        "Article: {article_text}\n",
        "\n",
        "Summary:\n",
        "\n",
        "Let's think step-by-step.\n",
        "\"\"\""
      ],
      "metadata": {
        "id": "536wCqCciCXb"
      },
      "execution_count": null,
      "outputs": []
    },
    {
      "cell_type": "markdown",
      "source": [
        "### Chain of Thoughts (CoT) prompting"
      ],
      "metadata": {
        "id": "bgtofJCQiCXb"
      }
    },
    {
      "cell_type": "code",
      "source": [
        "def cot(article_text):\n",
        "  return f\"\"\"\n",
        "  Analyze the structure and key points of the following news article, then provide a summary that captures the main ideas. Think through each step of your analysis:\n",
        "\n",
        "  {article_text}\n",
        "\n",
        "  Step 1: Identify the main topic and central narrative of the article.\n",
        "\n",
        "  Step 2: Outline the key events or developments discussed in the article.\n",
        "\n",
        "  Step 3: Analyze how the article is structured (e.g., chronological, problem-solution, cause-effect).\n",
        "\n",
        "  Step 4: Determine the most important information to include in the summary.\n",
        "\n",
        "  Summary:\n",
        "  \"\"\""
      ],
      "metadata": {
        "id": "bEJv0DC4iCXb"
      },
      "execution_count": null,
      "outputs": []
    },
    {
      "cell_type": "markdown",
      "source": [
        "### Tree of Thoughts (ToT) prompting"
      ],
      "metadata": {
        "id": "TXuP1J5LiCXb"
      }
    },
    {
      "cell_type": "code",
      "source": [
        "def tot(article_text):\n",
        "    return f\"\"\"\n",
        "    Analyze the following news article from multiple perspectives, then provide a summary that captures the diverse viewpoints. Explore different reasoning paths:\n",
        "\n",
        "    {article_text}\n",
        "\n",
        "    Path 1 - Government/Policymaker Perspective:\n",
        "    - Key points from this perspective:\n",
        "    - Reasoning for this perspective:\n",
        "    - Pros and cons of this perspective:\n",
        "\n",
        "    Path 2 - Business/Industry/Sports/Celebrity Perspective:\n",
        "    - Key points from this perspective:\n",
        "    - Reasoning for this perspective:\n",
        "    - Pros and cons of this perspective:\n",
        "\n",
        "    Path 3 - Citizen/Consumer Perspective:\n",
        "    - Key points from this perspective:\n",
        "    - Reasoning for this perspective:\n",
        "    - Pros and cons of this perspective:\n",
        "\n",
        "    Evaluate the different perspectives:\n",
        "    - Most important perspectives to include in the summary:\n",
        "    - Reasoning for this selection:\n",
        "\n",
        "    Summary:\n",
        "    \"\"\""
      ],
      "metadata": {
        "id": "TDNjafR-iCXb"
      },
      "execution_count": null,
      "outputs": []
    },
    {
      "cell_type": "code",
      "source": [
        "article_text = \"\"\"Australia leg-spinner Stuart MacGill has announced he will quit international cricket at the end of the ongoing second Test against West Indies. MacGill will retire after 10 years of Test cricket, in which he has taken 207 wickets. The 37-year-old made his Test debut against South Africa 10 years ago and has since gone on to take 207 wickets at an average of 28.28 over 43 Test matches. \"Unfortunately now my time is up,\" MacGill said. \"I am incredibly lucky that as well as providing me with amazing opportunities off the field, my job allows me to test myself in one of Australia's most highly scrutinised sporting environments. \"Bowling with some of crickets all time greats such as Glenn McGrath, Shane Warne, Jason Gillespie and Brett Lee has made my job a lot easier. I want to be sure that exciting young bowlers like Mitchell Johnson enjoy the same privilege,\" he added. MacGill took the only wicket to fall on a rain-interrupted third day of the Test in Antigua. He had Ramnaresh Sarwan brilliantly caught at slip by Michael Clarke for a well-constructed 65, but otherwise drew blank on a frustrating day for the tourists. The ever dependable Shivnarine Chanderpaul (55 not out) and Dwayne Bravo (29 not out) took the West Indies to the close on 255 for four wickets. They were replying to Australia's 479 for seven declared and with only two days remaining a draw looks the likely outcome in MacGill's farewell appearance. Australia won the first Test in Jamaica by 95 runs.\"\"\"\n",
        "gold_summary = \"Australian leg-spinner Stuart MacGill has announced he will quit Test cricket . The 37-year-old made his Test debut 10 years ago and has taken 207 wickets . MacGill took only wicket to fall in rain-interrupted third day of second Test . Shivnarine Chanderpaul and Dwayne Bravo compile unbroken stand of 73 .\"\n",
        "test_prompts(article_text, reference_summary=gold_summary, model=\"llama\", category=\"zero_shot\", max_tokens=128, temperature=0.001, top_p=0.95) # Precise/Deterministic\n",
        "test_prompts(article_text, reference_summary=gold_summary, model=\"llama\", category=\"zero_shot\", max_tokens=128, temperature=0.6, top_p=0.8) # Balanced/Regular\n",
        "test_prompts(article_text, reference_summary=gold_summary, model=\"llama\", category=\"zero_shot\", max_tokens=128, temperature=1.0, top_p=0.6) # Creative"
      ],
      "metadata": {
        "colab": {
          "base_uri": "https://localhost:8080/"
        },
        "id": "EUIPLzCmlm7D",
        "outputId": "ca7f57ef-ce81-4a58-ea3f-7ead1d5b4137"
      },
      "execution_count": null,
      "outputs": [
        {
          "output_type": "stream",
          "name": "stdout",
          "text": [
            "----------------------------------------------------------------------------------------------------\n",
            "Llama - Zero Shot - T = 0.001 P = 0.95\n",
            "----------------------------------------------------------------------------------------------------\n",
            "\n",
            "Stuart MacGill, a 37-year-old Australian leg-spinner, has announced his retirement from international cricket after the ongoing second Test against West Indies. With 207 wickets in 43 Test matches, MacGill has had a successful 10-year career, during which he has played alongside some of cricket's greatest bowlers. He will retire after the current Test, which is likely to end in a draw, and has expressed his gratitude for the opportunities he has had to test himself in a highly competitive environment. MacGill's farewell appearance will be his last in international cricket.\n",
            "Rouge Score: {'rouge-1': {'r': 0.42857142857142855, 'p': 0.26865671641791045, 'f': 0.3302752246208232}, 'rouge-2': {'r': 0.10638297872340426, 'p': 0.05952380952380952, 'f': 0.07633587326146522}, 'rouge-l': {'r': 0.40476190476190477, 'p': 0.2537313432835821, 'f': 0.31192660076761225}}\n",
            "----------------------------------------------------------------------------------------------------\n",
            "----------------------------------------------------------------------------------------------------\n",
            "Llama - Zero Shot - T = 0.6 P = 0.8\n",
            "----------------------------------------------------------------------------------------------------\n",
            "\n",
            "Australian leg-spinner Stuart MacGill has announced his retirement from international cricket after the ongoing second Test against West Indies. With 207 wickets in 43 Test matches, MacGill will hang up his boots after 10 years of Test cricket. He expressed gratitude for the opportunities he had and praised the experience of bowling alongside greats like Shane Warne and Glenn McGrath. MacGill took his 207th wicket in the ongoing Test, which is likely to end in a draw with only two days remaining. His retirement marks the end of an era for Australian cricket.\n",
            "Rouge Score: {'rouge-1': {'r': 0.5476190476190477, 'p': 0.32857142857142857, 'f': 0.41071428102678575}, 'rouge-2': {'r': 0.2127659574468085, 'p': 0.10989010989010989, 'f': 0.14492753174018075}, 'rouge-l': {'r': 0.47619047619047616, 'p': 0.2857142857142857, 'f': 0.35714285245535715}}\n",
            "----------------------------------------------------------------------------------------------------\n",
            "----------------------------------------------------------------------------------------------------\n",
            "Llama - Zero Shot - T = 1.0 P = 0.6\n",
            "----------------------------------------------------------------------------------------------------\n",
            "\n",
            "Australian leg-spinner Stuart MacGill has announced his retirement from international cricket, effective at the end of the ongoing second Test against West Indies. MacGill, 37, has played 10 years of Test cricket, taking 207 wickets at an average of 28.28. He will retire after the second Test, which is likely to end in a draw. MacGill expressed gratitude for the opportunities he had and acknowledged the privilege of bowling alongside greats like Glenn McGrath and Shane Warne. He also praised exciting young bowlers like Mitchell Johnson. MacGill took the only wicket to fall on the third day\n",
            "Rouge Score: {'rouge-1': {'r': 0.5952380952380952, 'p': 0.32894736842105265, 'f': 0.42372880897443266}, 'rouge-2': {'r': 0.2765957446808511, 'p': 0.13402061855670103, 'f': 0.18055555115837202}, 'rouge-l': {'r': 0.5952380952380952, 'p': 0.32894736842105265, 'f': 0.42372880897443266}}\n",
            "----------------------------------------------------------------------------------------------------\n"
          ]
        }
      ]
    },
    {
      "cell_type": "code",
      "source": [
        "article_text = \"\"\"Australia leg-spinner Stuart MacGill has announced he will quit international cricket at the end of the ongoing second Test against West Indies. MacGill will retire after 10 years of Test cricket, in which he has taken 207 wickets. The 37-year-old made his Test debut against South Africa 10 years ago and has since gone on to take 207 wickets at an average of 28.28 over 43 Test matches. \"Unfortunately now my time is up,\" MacGill said. \"I am incredibly lucky that as well as providing me with amazing opportunities off the field, my job allows me to test myself in one of Australia's most highly scrutinised sporting environments. \"Bowling with some of crickets all time greats such as Glenn McGrath, Shane Warne, Jason Gillespie and Brett Lee has made my job a lot easier. I want to be sure that exciting young bowlers like Mitchell Johnson enjoy the same privilege,\" he added. MacGill took the only wicket to fall on a rain-interrupted third day of the Test in Antigua. He had Ramnaresh Sarwan brilliantly caught at slip by Michael Clarke for a well-constructed 65, but otherwise drew blank on a frustrating day for the tourists. The ever dependable Shivnarine Chanderpaul (55 not out) and Dwayne Bravo (29 not out) took the West Indies to the close on 255 for four wickets. They were replying to Australia's 479 for seven declared and with only two days remaining a draw looks the likely outcome in MacGill's farewell appearance. Australia won the first Test in Jamaica by 95 runs.\"\"\"\n",
        "gold_summary = \"Australian leg-spinner Stuart MacGill has announced he will quit Test cricket . The 37-year-old made his Test debut 10 years ago and has taken 207 wickets . MacGill took only wicket to fall in rain-interrupted third day of second Test . Shivnarine Chanderpaul and Dwayne Bravo compile unbroken stand of 73 .\"\n",
        "test_prompts(article_text, reference_summary=gold_summary, model=\"gemini\", category=\"zero_shot\", max_tokens=128, temperature=0.001, top_p=0.95) # Precise/Deterministic\n",
        "test_prompts(article_text, reference_summary=gold_summary, model=\"gemini\", category=\"zero_shot\", max_tokens=128, temperature=0.6, top_p=0.8) # Balanced/Regular\n",
        "test_prompts(article_text, reference_summary=gold_summary, model=\"gemini\", category=\"zero_shot\", max_tokens=128, temperature=1.0, top_p=0.6) # Creative"
      ],
      "metadata": {
        "colab": {
          "base_uri": "https://localhost:8080/",
          "height": 454
        },
        "id": "M7kuoL6hVu_B",
        "outputId": "555f81d7-3542-4bdd-f9a4-6ff1ea65e1ae"
      },
      "execution_count": null,
      "outputs": [
        {
          "output_type": "stream",
          "name": "stdout",
          "text": [
            "----------------------------------------------------------------------------------------------------\n",
            "Gemini - Zero Shot - T = 0.001 P = 0.95\n",
            "----------------------------------------------------------------------------------------------------\n",
            "\n",
            "Australian leg-spinner Stuart MacGill has announced his retirement from international cricket after 10 years and 207 wickets. The 37-year-old, who made his Test debut in 2001, will play his final match in the second Test against West Indies. MacGill expressed gratitude for the opportunities cricket has provided him and acknowledged the support of his fellow bowlers. He took one wicket on the rain-affected third day of the Test, but a draw seems likely in his farewell appearance. \n",
            "\n",
            "Rouge Score: {'rouge-1': {'r': 0.5952380952380952, 'p': 0.4032258064516129, 'f': 0.480769225954142}, 'rouge-2': {'r': 0.2765957446808511, 'p': 0.16883116883116883, 'f': 0.20967741464750272}, 'rouge-l': {'r': 0.5952380952380952, 'p': 0.4032258064516129, 'f': 0.480769225954142}}\n",
            "----------------------------------------------------------------------------------------------------\n",
            "----------------------------------------------------------------------------------------------------\n",
            "Gemini - Zero Shot - T = 0.6 P = 0.8\n",
            "----------------------------------------------------------------------------------------------------\n",
            "\n",
            "Australian leg-spinner Stuart MacGill announced his retirement from international cricket after the second Test against West Indies, ending a 10-year career that saw him take 207 wickets in 43 Tests. The 37-year-old expressed gratitude for the opportunities and challenges his career provided, highlighting the privilege of playing alongside cricketing greats like Warne and McGrath. Despite taking the only wicket on a rain-affected third day in Antigua, MacGill's final Test is likely to end in a draw, with the West Indies comfortably chasing Australia's first innings total. \n",
            "\n",
            "Rouge Score: {'rouge-1': {'r': 0.5, 'p': 0.28378378378378377, 'f': 0.3620689608977408}, 'rouge-2': {'r': 0.1702127659574468, 'p': 0.09302325581395349, 'f': 0.12030074730962763}, 'rouge-l': {'r': 0.4523809523809524, 'p': 0.25675675675675674, 'f': 0.32758620227705115}}\n",
            "----------------------------------------------------------------------------------------------------\n",
            "----------------------------------------------------------------------------------------------------\n",
            "Gemini - Zero Shot - T = 1.0 P = 0.6\n",
            "----------------------------------------------------------------------------------------------------\n",
            "\n",
            "Australian leg-spinner Stuart MacGill has announced his retirement from international cricket after the second Test against the West Indies. MacGill, 37, has played 43 Tests over 10 years, taking 207 wickets. He expressed gratitude for the opportunities cricket provided and acknowledged the support of his fellow bowlers. Despite taking the only wicket on a rain-affected third day in Antigua, a draw is likely in his final Test appearance. \n",
            "\n",
            "Rouge Score: {'rouge-1': {'r': 0.47619047619047616, 'p': 0.3508771929824561, 'f': 0.4040403991551883}, 'rouge-2': {'r': 0.19148936170212766, 'p': 0.1323529411764706, 'f': 0.1565217342971646}, 'rouge-l': {'r': 0.42857142857142855, 'p': 0.3157894736842105, 'f': 0.3636363587511479}}\n",
            "----------------------------------------------------------------------------------------------------\n"
          ]
        }
      ]
    },
    {
      "cell_type": "code",
      "source": [
        "article_text = \"\"\"Australia leg-spinner Stuart MacGill has announced he will quit international cricket at the end of the ongoing second Test against West Indies. MacGill will retire after 10 years of Test cricket, in which he has taken 207 wickets. The 37-year-old made his Test debut against South Africa 10 years ago and has since gone on to take 207 wickets at an average of 28.28 over 43 Test matches. \"Unfortunately now my time is up,\" MacGill said. \"I am incredibly lucky that as well as providing me with amazing opportunities off the field, my job allows me to test myself in one of Australia's most highly scrutinised sporting environments. \"Bowling with some of crickets all time greats such as Glenn McGrath, Shane Warne, Jason Gillespie and Brett Lee has made my job a lot easier. I want to be sure that exciting young bowlers like Mitchell Johnson enjoy the same privilege,\" he added. MacGill took the only wicket to fall on a rain-interrupted third day of the Test in Antigua. He had Ramnaresh Sarwan brilliantly caught at slip by Michael Clarke for a well-constructed 65, but otherwise drew blank on a frustrating day for the tourists. The ever dependable Shivnarine Chanderpaul (55 not out) and Dwayne Bravo (29 not out) took the West Indies to the close on 255 for four wickets. They were replying to Australia's 479 for seven declared and with only two days remaining a draw looks the likely outcome in MacGill's farewell appearance. Australia won the first Test in Jamaica by 95 runs.\"\"\"\n",
        "gold_summary = \"Australian leg-spinner Stuart MacGill has announced he will quit Test cricket . The 37-year-old made his Test debut 10 years ago and has taken 207 wickets . MacGill took only wicket to fall in rain-interrupted third day of second Test . Shivnarine Chanderpaul and Dwayne Bravo compile unbroken stand of 73 .\"\n",
        "test_prompts(article_text, reference_summary=gold_summary, model=\"gpt\", category=\"zero_shot\", max_tokens=128, temperature=0.001, top_p=0.95) # Precise/Deterministic\n",
        "test_prompts(article_text, reference_summary=gold_summary, model=\"gpt\", category=\"zero_shot\", max_tokens=128, temperature=0.6, top_p=0.8) # Balanced/Regular\n",
        "test_prompts(article_text, reference_summary=gold_summary, model=\"gpt\", category=\"zero_shot\", max_tokens=128, temperature=1.0, top_p=0.6) # Creative"
      ],
      "metadata": {
        "colab": {
          "base_uri": "https://localhost:8080/"
        },
        "id": "7wMXkZbLWMof",
        "outputId": "f686eaac-8e37-4186-c3a8-e51a33e162e3"
      },
      "execution_count": null,
      "outputs": [
        {
          "output_type": "stream",
          "name": "stdout",
          "text": [
            "----------------------------------------------------------------------------------------------------\n",
            "GPT-4o-Mini - Zero Shot - T = 0.001 P = 0.95\n",
            "----------------------------------------------------------------------------------------------------\n",
            "\n",
            "Australia leg-spinner Stuart MacGill has announced his retirement from international cricket following the ongoing second Test against the West Indies, concluding a decade-long career in which he took 207 wickets in 43 Test matches. The 37-year-old, who made his debut against South Africa, expressed gratitude for the opportunities his career provided and highlighted the privilege of bowling alongside legends like Glenn McGrath and Shane Warne. In his final match, MacGill took one wicket on a rain-affected day, but the match is likely to end in a draw as the West Indies reached 255 for four in response to Australia's 479 for seven declared. Australia had previously won the first Test by 95 runs.\n",
            "Rouge Score: {'rouge-1': {'r': 0.5, 'p': 0.2413793103448276, 'f': 0.32558139095727423}, 'rouge-2': {'r': 0.1702127659574468, 'p': 0.07207207207207207, 'f': 0.10126581860519164}, 'rouge-l': {'r': 0.4523809523809524, 'p': 0.21839080459770116, 'f': 0.2945736390192898}}\n",
            "----------------------------------------------------------------------------------------------------\n",
            "----------------------------------------------------------------------------------------------------\n",
            "GPT-4o-Mini - Zero Shot - T = 0.6 P = 0.8\n",
            "----------------------------------------------------------------------------------------------------\n",
            "\n",
            "Australia leg-spinner Stuart MacGill has announced his retirement from international cricket following the ongoing second Test against the West Indies, concluding a decade-long career in which he took 207 wickets over 43 matches. The 37-year-old made his Test debut against South Africa and expressed gratitude for the opportunities the sport provided him, particularly the chance to play alongside legends like Glenn McGrath and Shane Warne. In his final match, MacGill took the only wicket on a rain-affected day, dismissing Ramnaresh Sarwan, but faced a challenging outing as the West Indies reached 255 for four in response to Australia’s 479 for seven declared, with a draw appearing likely as the match progresses. Australia previously won the first Test in Jamaica by 95 runs.\n",
            "Rouge Score: {'rouge-1': {'r': 0.5238095238095238, 'p': 0.23157894736842105, 'f': 0.3211678789599873}, 'rouge-2': {'r': 0.2765957446808511, 'p': 0.1092436974789916, 'f': 0.15662650196472647}, 'rouge-l': {'r': 0.47619047619047616, 'p': 0.21052631578947367, 'f': 0.29197079866801645}}\n",
            "----------------------------------------------------------------------------------------------------\n",
            "----------------------------------------------------------------------------------------------------\n",
            "GPT-4o-Mini - Zero Shot - T = 1.0 P = 0.6\n",
            "----------------------------------------------------------------------------------------------------\n",
            "\n",
            "Australia leg-spinner Stuart MacGill has announced his retirement from international cricket following the second Test against the West Indies, concluding a decade-long career in which he took 207 wickets in 43 Test matches. The 37-year-old made his debut against South Africa and expressed gratitude for the opportunities his career provided, including playing alongside cricket legends like Glenn McGrath and Shane Warne. In his final match, MacGill took the only wicket on a rain-affected day, but the West Indies ended the day at 255 for four in response to Australia's 479 for seven declared, with a draw looking likely as the match nears its conclusion. Australia previously won the first Test in Jamaica by 95 runs.\n",
            "Rouge Score: {'rouge-1': {'r': 0.5476190476190477, 'p': 0.26136363636363635, 'f': 0.3538461494721894}, 'rouge-2': {'r': 0.23404255319148937, 'p': 0.09734513274336283, 'f': 0.13749999585078138}, 'rouge-l': {'r': 0.5, 'p': 0.23863636363636365, 'f': 0.3230769187029586}}\n",
            "----------------------------------------------------------------------------------------------------\n"
          ]
        }
      ]
    }
  ],
  "metadata": {
    "colab": {
      "gpuType": "T4",
      "provenance": []
    },
    "kernelspec": {
      "display_name": "Python 3",
      "name": "python3"
    },
    "language_info": {
      "name": "python"
    }
  },
  "nbformat": 4,
  "nbformat_minor": 0
}